{
  "nbformat": 4,
  "nbformat_minor": 0,
  "metadata": {
    "colab": {
      "provenance": []
    },
    "kernelspec": {
      "name": "python3",
      "display_name": "Python 3"
    },
    "language_info": {
      "name": "python"
    }
  },
  "cells": [
    {
      "cell_type": "code",
      "execution_count": 262,
      "metadata": {
        "id": "4EwIB4YDJOjU"
      },
      "outputs": [],
      "source": [
        "from pyspark.sql import SparkSession\n",
        "from pyspark.sql.functions import col, count, coalesce, concat, lit, explode, row_number, rank, sum\n",
        "from pyspark.sql import functions as F\n",
        "from pyspark.sql.window import Window\n",
        "import json"
      ]
    },
    {
      "cell_type": "code",
      "source": [
        "from pyspark.sql.types import StructType, StructField, IntegerType, StringType, DoubleType, FloatType"
      ],
      "metadata": {
        "id": "5dp8WBqYzHL7"
      },
      "execution_count": 149,
      "outputs": []
    },
    {
      "cell_type": "code",
      "source": [
        "spark = SparkSession.builder.getOrCreate()"
      ],
      "metadata": {
        "id": "zEb26fNEJR4y"
      },
      "execution_count": 150,
      "outputs": []
    },
    {
      "cell_type": "code",
      "source": [
        "schema = StructType([\n",
        "    StructField(\"id\", StringType(), True),\n",
        "    StructField(\"year\", IntegerType(), True),\n",
        "    StructField(\"month\", StringType(), True),\n",
        "    StructField(\"day\", StringType(), True),\n",
        "    StructField(\"dep_time\", FloatType(), True),\n",
        "    StructField(\"sched_dep_time\", FloatType(), True),\n",
        "    StructField(\"dep_delay\", FloatType(), True),\n",
        "    StructField(\"arr_time\", FloatType(), True),\n",
        "    StructField(\"sched_arr_time\", FloatType(), True),\n",
        "    StructField(\"arr_delay\", FloatType(), True),\n",
        "    StructField(\"carrier\", StringType(), True),\n",
        "    StructField(\"flight\", StringType(), True),\n",
        "    StructField(\"tailnum\", StringType(), True),\n",
        "    StructField(\"origin\", StringType(), True),\n",
        "    StructField(\"dest\", StringType(), True),\n",
        "    StructField(\"air_time\", FloatType(), True),\n",
        "    StructField(\"distance\", FloatType(), True),\n",
        "    StructField(\"hour\", IntegerType(), True),\n",
        "    StructField(\"minute\", IntegerType(), True),\n",
        "    StructField(\"time_hour\", StringType(), True),\n",
        "    StructField(\"name\", StringType(), True)\n",
        "])"
      ],
      "metadata": {
        "id": "wlSA4sOW1wZC"
      },
      "execution_count": 151,
      "outputs": []
    },
    {
      "cell_type": "code",
      "source": [
        "df = spark.read.csv(\"/content/flights.csv\", header=True, schema=schema)"
      ],
      "metadata": {
        "id": "ofk3KuCeK4J9"
      },
      "execution_count": 152,
      "outputs": []
    },
    {
      "cell_type": "code",
      "source": [
        "df.printSchema()"
      ],
      "metadata": {
        "colab": {
          "base_uri": "https://localhost:8080/"
        },
        "id": "Qnf4gJja1d5-",
        "outputId": "26390e76-b8f0-4f11-92a9-e372127c1444"
      },
      "execution_count": 153,
      "outputs": [
        {
          "output_type": "stream",
          "name": "stdout",
          "text": [
            "root\n",
            " |-- id: string (nullable = true)\n",
            " |-- year: integer (nullable = true)\n",
            " |-- month: string (nullable = true)\n",
            " |-- day: string (nullable = true)\n",
            " |-- dep_time: float (nullable = true)\n",
            " |-- sched_dep_time: float (nullable = true)\n",
            " |-- dep_delay: float (nullable = true)\n",
            " |-- arr_time: float (nullable = true)\n",
            " |-- sched_arr_time: float (nullable = true)\n",
            " |-- arr_delay: float (nullable = true)\n",
            " |-- carrier: string (nullable = true)\n",
            " |-- flight: string (nullable = true)\n",
            " |-- tailnum: string (nullable = true)\n",
            " |-- origin: string (nullable = true)\n",
            " |-- dest: string (nullable = true)\n",
            " |-- air_time: float (nullable = true)\n",
            " |-- distance: float (nullable = true)\n",
            " |-- hour: integer (nullable = true)\n",
            " |-- minute: integer (nullable = true)\n",
            " |-- time_hour: string (nullable = true)\n",
            " |-- name: string (nullable = true)\n",
            "\n"
          ]
        }
      ]
    },
    {
      "cell_type": "code",
      "source": [
        "df.show()"
      ],
      "metadata": {
        "colab": {
          "base_uri": "https://localhost:8080/"
        },
        "id": "C2H51zEdTqx1",
        "outputId": "b4da294e-b835-4dd8-de60-6b42c012dc66"
      },
      "execution_count": 154,
      "outputs": [
        {
          "output_type": "stream",
          "name": "stdout",
          "text": [
            "+---+----+-----+---+--------+--------------+---------+--------+--------------+---------+-------+------+-------+------+----+--------+--------+----+------+-------------------+--------------------+\n",
            "| id|year|month|day|dep_time|sched_dep_time|dep_delay|arr_time|sched_arr_time|arr_delay|carrier|flight|tailnum|origin|dest|air_time|distance|hour|minute|          time_hour|                name|\n",
            "+---+----+-----+---+--------+--------------+---------+--------+--------------+---------+-------+------+-------+------+----+--------+--------+----+------+-------------------+--------------------+\n",
            "|  0|2013|    1|  1|   517.0|         515.0|      2.0|   830.0|         819.0|     11.0|     UA|  1545| N14228|   EWR| IAH|   227.0|  1400.0|   5|    15|2013-01-01 05:00:00|United Air Lines ...|\n",
            "|  1|2013|    1|  1|   533.0|         529.0|      4.0|   850.0|         830.0|     20.0|     UA|  1714| N24211|   LGA| IAH|   227.0|  1416.0|   5|    29|2013-01-01 05:00:00|United Air Lines ...|\n",
            "|  2|2013|    1|  1|   542.0|         540.0|      2.0|   923.0|         850.0|     33.0|     AA|  1141| N619AA|   JFK| MIA|   160.0|  1089.0|   5|    40|2013-01-01 05:00:00|American Airlines...|\n",
            "|  3|2013|    1|  1|   544.0|         545.0|     -1.0|  1004.0|        1022.0|    -18.0|     B6|   725| N804JB|   JFK| BQN|   183.0|  1576.0|   5|    45|2013-01-01 05:00:00|     JetBlue Airways|\n",
            "|  4|2013|    1|  1|   554.0|         600.0|     -6.0|   812.0|         837.0|    -25.0|     DL|   461| N668DN|   LGA| ATL|   116.0|   762.0|   6|     0|2013-01-01 06:00:00|Delta Air Lines Inc.|\n",
            "|  5|2013|    1|  1|   554.0|         558.0|     -4.0|   740.0|         728.0|     12.0|     UA|  1696| N39463|   EWR| ORD|   150.0|   719.0|   5|    58|2013-01-01 05:00:00|United Air Lines ...|\n",
            "|  6|2013|    1|  1|   555.0|         600.0|     -5.0|   913.0|         854.0|     19.0|     B6|   507| N516JB|   EWR| FLL|   158.0|  1065.0|   6|     0|2013-01-01 06:00:00|     JetBlue Airways|\n",
            "|  7|2013|    1|  1|   557.0|         600.0|     -3.0|   709.0|         723.0|    -14.0|     EV|  5708| N829AS|   LGA| IAD|    53.0|   229.0|   6|     0|2013-01-01 06:00:00|ExpressJet Airlin...|\n",
            "|  8|2013|    1|  1|   557.0|         600.0|     -3.0|   838.0|         846.0|     -8.0|     B6|    79| N593JB|   JFK| MCO|   140.0|   944.0|   6|     0|2013-01-01 06:00:00|     JetBlue Airways|\n",
            "|  9|2013|    1|  1|   558.0|         600.0|     -2.0|   753.0|         745.0|      8.0|     AA|   301| N3ALAA|   LGA| ORD|   138.0|   733.0|   6|     0|2013-01-01 06:00:00|American Airlines...|\n",
            "| 10|2013|    1|  1|   558.0|         600.0|     -2.0|   849.0|         851.0|     -2.0|     B6|    49| N793JB|   JFK| PBI|   149.0|  1028.0|   6|     0|2013-01-01 06:00:00|     JetBlue Airways|\n",
            "| 11|2013|    1|  1|   558.0|         600.0|     -2.0|   853.0|         856.0|     -3.0|     B6|    71| N657JB|   JFK| TPA|   158.0|  1005.0|   6|     0|2013-01-01 06:00:00|     JetBlue Airways|\n",
            "| 12|2013|    1|  1|   558.0|         600.0|     -2.0|   924.0|         917.0|      7.0|     UA|   194| N29129|   JFK| LAX|   345.0|  2475.0|   6|     0|2013-01-01 06:00:00|United Air Lines ...|\n",
            "| 13|2013|    1|  1|   558.0|         600.0|     -2.0|   923.0|         937.0|    -14.0|     UA|  1124| N53441|   EWR| SFO|   361.0|  2565.0|   6|     0|2013-01-01 06:00:00|United Air Lines ...|\n",
            "| 14|2013|    1|  1|   559.0|         600.0|     -1.0|   941.0|         910.0|     31.0|     AA|   707| N3DUAA|   LGA| DFW|   257.0|  1389.0|   6|     0|2013-01-01 06:00:00|American Airlines...|\n",
            "| 15|2013|    1|  1|   559.0|         559.0|      0.0|   702.0|         706.0|     -4.0|     B6|  1806| N708JB|   JFK| BOS|    44.0|   187.0|   5|    59|2013-01-01 05:00:00|     JetBlue Airways|\n",
            "| 16|2013|    1|  1|   559.0|         600.0|     -1.0|   854.0|         902.0|     -8.0|     UA|  1187| N76515|   EWR| LAS|   337.0|  2227.0|   6|     0|2013-01-01 06:00:00|United Air Lines ...|\n",
            "| 17|2013|    1|  1|   600.0|         600.0|      0.0|   851.0|         858.0|     -7.0|     B6|   371| N595JB|   LGA| FLL|   152.0|  1076.0|   6|     0|2013-01-01 06:00:00|     JetBlue Airways|\n",
            "| 18|2013|    1|  1|   600.0|         600.0|      0.0|   837.0|         825.0|     12.0|     MQ|  4650| N542MQ|   LGA| ATL|   134.0|   762.0|   6|     0|2013-01-01 06:00:00|           Envoy Air|\n",
            "| 19|2013|    1|  1|   601.0|         600.0|      1.0|   844.0|         850.0|     -6.0|     B6|   343| N644JB|   EWR| PBI|   147.0|  1023.0|   6|     0|2013-01-01 06:00:00|     JetBlue Airways|\n",
            "+---+----+-----+---+--------+--------------+---------+--------+--------------+---------+-------+------+-------+------+----+--------+--------+----+------+-------------------+--------------------+\n",
            "only showing top 20 rows\n",
            "\n"
          ]
        }
      ]
    },
    {
      "cell_type": "code",
      "source": [
        "df = df[['id','name','year','month','day','origin','distance','hour','minute']]"
      ],
      "metadata": {
        "id": "Qcm393zDSJKH"
      },
      "execution_count": 155,
      "outputs": []
    },
    {
      "cell_type": "code",
      "source": [
        "df.printSchema()"
      ],
      "metadata": {
        "colab": {
          "base_uri": "https://localhost:8080/"
        },
        "id": "zNyYS_6FzwYY",
        "outputId": "172ab2bf-abdf-444d-e617-e1376a77192b"
      },
      "execution_count": 156,
      "outputs": [
        {
          "output_type": "stream",
          "name": "stdout",
          "text": [
            "root\n",
            " |-- id: string (nullable = true)\n",
            " |-- name: string (nullable = true)\n",
            " |-- year: integer (nullable = true)\n",
            " |-- month: string (nullable = true)\n",
            " |-- day: string (nullable = true)\n",
            " |-- origin: string (nullable = true)\n",
            " |-- distance: float (nullable = true)\n",
            " |-- hour: integer (nullable = true)\n",
            " |-- minute: integer (nullable = true)\n",
            "\n"
          ]
        }
      ]
    },
    {
      "cell_type": "code",
      "source": [
        "df.show(truncate=False)"
      ],
      "metadata": {
        "colab": {
          "base_uri": "https://localhost:8080/"
        },
        "id": "kL8_W8ufSMTX",
        "outputId": "78cc51c3-db8d-46d2-d7b7-6155c6d79a53"
      },
      "execution_count": 157,
      "outputs": [
        {
          "output_type": "stream",
          "name": "stdout",
          "text": [
            "+---+------------------------+----+-----+---+------+--------+----+------+\n",
            "|id |name                    |year|month|day|origin|distance|hour|minute|\n",
            "+---+------------------------+----+-----+---+------+--------+----+------+\n",
            "|0  |United Air Lines Inc.   |2013|1    |1  |EWR   |1400.0  |5   |15    |\n",
            "|1  |United Air Lines Inc.   |2013|1    |1  |LGA   |1416.0  |5   |29    |\n",
            "|2  |American Airlines Inc.  |2013|1    |1  |JFK   |1089.0  |5   |40    |\n",
            "|3  |JetBlue Airways         |2013|1    |1  |JFK   |1576.0  |5   |45    |\n",
            "|4  |Delta Air Lines Inc.    |2013|1    |1  |LGA   |762.0   |6   |0     |\n",
            "|5  |United Air Lines Inc.   |2013|1    |1  |EWR   |719.0   |5   |58    |\n",
            "|6  |JetBlue Airways         |2013|1    |1  |EWR   |1065.0  |6   |0     |\n",
            "|7  |ExpressJet Airlines Inc.|2013|1    |1  |LGA   |229.0   |6   |0     |\n",
            "|8  |JetBlue Airways         |2013|1    |1  |JFK   |944.0   |6   |0     |\n",
            "|9  |American Airlines Inc.  |2013|1    |1  |LGA   |733.0   |6   |0     |\n",
            "|10 |JetBlue Airways         |2013|1    |1  |JFK   |1028.0  |6   |0     |\n",
            "|11 |JetBlue Airways         |2013|1    |1  |JFK   |1005.0  |6   |0     |\n",
            "|12 |United Air Lines Inc.   |2013|1    |1  |JFK   |2475.0  |6   |0     |\n",
            "|13 |United Air Lines Inc.   |2013|1    |1  |EWR   |2565.0  |6   |0     |\n",
            "|14 |American Airlines Inc.  |2013|1    |1  |LGA   |1389.0  |6   |0     |\n",
            "|15 |JetBlue Airways         |2013|1    |1  |JFK   |187.0   |5   |59    |\n",
            "|16 |United Air Lines Inc.   |2013|1    |1  |EWR   |2227.0  |6   |0     |\n",
            "|17 |JetBlue Airways         |2013|1    |1  |LGA   |1076.0  |6   |0     |\n",
            "|18 |Envoy Air               |2013|1    |1  |LGA   |762.0   |6   |0     |\n",
            "|19 |JetBlue Airways         |2013|1    |1  |EWR   |1023.0  |6   |0     |\n",
            "+---+------------------------+----+-----+---+------+--------+----+------+\n",
            "only showing top 20 rows\n",
            "\n"
          ]
        }
      ]
    },
    {
      "cell_type": "markdown",
      "source": [
        "# Let's find the airline with the most flights."
      ],
      "metadata": {
        "id": "rckmYtrDT96D"
      }
    },
    {
      "cell_type": "code",
      "source": [
        "airline_with_the_most_flights = df.groupBy(\n",
        "    col(\"name\").alias(\"airline\")\n",
        ").agg(\n",
        "    count(\"*\").alias(\"count_of_flights_by_airline\")\n",
        ").orderBy(\n",
        "    col(\"count_of_flights_by_airline\").desc()\n",
        ")"
      ],
      "metadata": {
        "id": "iaM7-N3ySTPr"
      },
      "execution_count": 158,
      "outputs": []
    },
    {
      "cell_type": "markdown",
      "source": [
        "# Let's find the longest distance the planes travels."
      ],
      "metadata": {
        "id": "b4kRdgmj6PB0"
      }
    },
    {
      "cell_type": "code",
      "source": [
        "longest_distance = df.groupBy(\n",
        "    col(\"name\").alias(\"AirLine\")\n",
        ").agg(\n",
        "    max(col(\"distance\")).alias(\"longest_distance\")\n",
        ").orderBy(col(\"longest_distance\").desc())"
      ],
      "metadata": {
        "id": "oxJbT2uE2BHL"
      },
      "execution_count": 159,
      "outputs": []
    },
    {
      "cell_type": "code",
      "source": [
        "df = df.withColumn(\n",
        "    \"minutes_total\",\n",
        "    (col(\"hour\").cast(\"int\") * 60) + col(\"minute\").cast(\"int\")\n",
        ")"
      ],
      "metadata": {
        "id": "c_cVfOeg2Mp6"
      },
      "execution_count": 160,
      "outputs": []
    },
    {
      "cell_type": "markdown",
      "source": [
        "# Let's find the flight that take the most time."
      ],
      "metadata": {
        "id": "Y71nzgmD7lpk"
      }
    },
    {
      "cell_type": "code",
      "source": [
        "df.show()"
      ],
      "metadata": {
        "colab": {
          "base_uri": "https://localhost:8080/"
        },
        "id": "25QlxPLx7sbJ",
        "outputId": "ed7f67d7-772e-4334-977d-701a05b6def9"
      },
      "execution_count": 161,
      "outputs": [
        {
          "output_type": "stream",
          "name": "stdout",
          "text": [
            "+---+--------------------+----+-----+---+------+--------+----+------+-------------+\n",
            "| id|                name|year|month|day|origin|distance|hour|minute|minutes_total|\n",
            "+---+--------------------+----+-----+---+------+--------+----+------+-------------+\n",
            "|  0|United Air Lines ...|2013|    1|  1|   EWR|  1400.0|   5|    15|          315|\n",
            "|  1|United Air Lines ...|2013|    1|  1|   LGA|  1416.0|   5|    29|          329|\n",
            "|  2|American Airlines...|2013|    1|  1|   JFK|  1089.0|   5|    40|          340|\n",
            "|  3|     JetBlue Airways|2013|    1|  1|   JFK|  1576.0|   5|    45|          345|\n",
            "|  4|Delta Air Lines Inc.|2013|    1|  1|   LGA|   762.0|   6|     0|          360|\n",
            "|  5|United Air Lines ...|2013|    1|  1|   EWR|   719.0|   5|    58|          358|\n",
            "|  6|     JetBlue Airways|2013|    1|  1|   EWR|  1065.0|   6|     0|          360|\n",
            "|  7|ExpressJet Airlin...|2013|    1|  1|   LGA|   229.0|   6|     0|          360|\n",
            "|  8|     JetBlue Airways|2013|    1|  1|   JFK|   944.0|   6|     0|          360|\n",
            "|  9|American Airlines...|2013|    1|  1|   LGA|   733.0|   6|     0|          360|\n",
            "| 10|     JetBlue Airways|2013|    1|  1|   JFK|  1028.0|   6|     0|          360|\n",
            "| 11|     JetBlue Airways|2013|    1|  1|   JFK|  1005.0|   6|     0|          360|\n",
            "| 12|United Air Lines ...|2013|    1|  1|   JFK|  2475.0|   6|     0|          360|\n",
            "| 13|United Air Lines ...|2013|    1|  1|   EWR|  2565.0|   6|     0|          360|\n",
            "| 14|American Airlines...|2013|    1|  1|   LGA|  1389.0|   6|     0|          360|\n",
            "| 15|     JetBlue Airways|2013|    1|  1|   JFK|   187.0|   5|    59|          359|\n",
            "| 16|United Air Lines ...|2013|    1|  1|   EWR|  2227.0|   6|     0|          360|\n",
            "| 17|     JetBlue Airways|2013|    1|  1|   LGA|  1076.0|   6|     0|          360|\n",
            "| 18|           Envoy Air|2013|    1|  1|   LGA|   762.0|   6|     0|          360|\n",
            "| 19|     JetBlue Airways|2013|    1|  1|   EWR|  1023.0|   6|     0|          360|\n",
            "+---+--------------------+----+-----+---+------+--------+----+------+-------------+\n",
            "only showing top 20 rows\n",
            "\n"
          ]
        }
      ]
    },
    {
      "cell_type": "markdown",
      "source": [
        "# To find the flight route that takes the most time we need to add a new column (dest)."
      ],
      "metadata": {
        "id": "WnLoRnIZ8Y7l"
      }
    },
    {
      "cell_type": "code",
      "source": [
        "df2 = spark.read.csv(\"/content/flights.csv\", header=True, schema=schema)"
      ],
      "metadata": {
        "id": "wYPwyhVs7tW-"
      },
      "execution_count": 162,
      "outputs": []
    },
    {
      "cell_type": "code",
      "source": [
        "df2 = df2.select(col(\"id\"),col(\"dest\"))"
      ],
      "metadata": {
        "id": "WbWXRfRF9nkG"
      },
      "execution_count": 163,
      "outputs": []
    },
    {
      "cell_type": "code",
      "source": [
        "df2.show()"
      ],
      "metadata": {
        "colab": {
          "base_uri": "https://localhost:8080/"
        },
        "id": "Om_veULe-GeQ",
        "outputId": "6edb86a4-151e-4235-ecc5-36d08b943026"
      },
      "execution_count": 164,
      "outputs": [
        {
          "output_type": "stream",
          "name": "stdout",
          "text": [
            "+---+----+\n",
            "| id|dest|\n",
            "+---+----+\n",
            "|  0| IAH|\n",
            "|  1| IAH|\n",
            "|  2| MIA|\n",
            "|  3| BQN|\n",
            "|  4| ATL|\n",
            "|  5| ORD|\n",
            "|  6| FLL|\n",
            "|  7| IAD|\n",
            "|  8| MCO|\n",
            "|  9| ORD|\n",
            "| 10| PBI|\n",
            "| 11| TPA|\n",
            "| 12| LAX|\n",
            "| 13| SFO|\n",
            "| 14| DFW|\n",
            "| 15| BOS|\n",
            "| 16| LAS|\n",
            "| 17| FLL|\n",
            "| 18| ATL|\n",
            "| 19| PBI|\n",
            "+---+----+\n",
            "only showing top 20 rows\n",
            "\n"
          ]
        }
      ]
    },
    {
      "cell_type": "code",
      "source": [
        "df = df.join(df2, on=\"id\", how=\"inner\")"
      ],
      "metadata": {
        "id": "YvupN8n081Pk"
      },
      "execution_count": 165,
      "outputs": []
    },
    {
      "cell_type": "code",
      "source": [
        "df.show()"
      ],
      "metadata": {
        "colab": {
          "base_uri": "https://localhost:8080/"
        },
        "id": "qhYonIkp9Gf1",
        "outputId": "ab96aaee-1c00-48bc-ef38-9bfda4ab4945"
      },
      "execution_count": 166,
      "outputs": [
        {
          "output_type": "stream",
          "name": "stdout",
          "text": [
            "+---+--------------------+----+-----+---+------+--------+----+------+-------------+----+\n",
            "| id|                name|year|month|day|origin|distance|hour|minute|minutes_total|dest|\n",
            "+---+--------------------+----+-----+---+------+--------+----+------+-------------+----+\n",
            "|  0|United Air Lines ...|2013|    1|  1|   EWR|  1400.0|   5|    15|          315| IAH|\n",
            "|  1|United Air Lines ...|2013|    1|  1|   LGA|  1416.0|   5|    29|          329| IAH|\n",
            "|  2|American Airlines...|2013|    1|  1|   JFK|  1089.0|   5|    40|          340| MIA|\n",
            "|  3|     JetBlue Airways|2013|    1|  1|   JFK|  1576.0|   5|    45|          345| BQN|\n",
            "|  4|Delta Air Lines Inc.|2013|    1|  1|   LGA|   762.0|   6|     0|          360| ATL|\n",
            "|  5|United Air Lines ...|2013|    1|  1|   EWR|   719.0|   5|    58|          358| ORD|\n",
            "|  6|     JetBlue Airways|2013|    1|  1|   EWR|  1065.0|   6|     0|          360| FLL|\n",
            "|  7|ExpressJet Airlin...|2013|    1|  1|   LGA|   229.0|   6|     0|          360| IAD|\n",
            "|  8|     JetBlue Airways|2013|    1|  1|   JFK|   944.0|   6|     0|          360| MCO|\n",
            "|  9|American Airlines...|2013|    1|  1|   LGA|   733.0|   6|     0|          360| ORD|\n",
            "| 10|     JetBlue Airways|2013|    1|  1|   JFK|  1028.0|   6|     0|          360| PBI|\n",
            "| 11|     JetBlue Airways|2013|    1|  1|   JFK|  1005.0|   6|     0|          360| TPA|\n",
            "| 12|United Air Lines ...|2013|    1|  1|   JFK|  2475.0|   6|     0|          360| LAX|\n",
            "| 13|United Air Lines ...|2013|    1|  1|   EWR|  2565.0|   6|     0|          360| SFO|\n",
            "| 14|American Airlines...|2013|    1|  1|   LGA|  1389.0|   6|     0|          360| DFW|\n",
            "| 15|     JetBlue Airways|2013|    1|  1|   JFK|   187.0|   5|    59|          359| BOS|\n",
            "| 16|United Air Lines ...|2013|    1|  1|   EWR|  2227.0|   6|     0|          360| LAS|\n",
            "| 17|     JetBlue Airways|2013|    1|  1|   LGA|  1076.0|   6|     0|          360| FLL|\n",
            "| 18|           Envoy Air|2013|    1|  1|   LGA|   762.0|   6|     0|          360| ATL|\n",
            "| 19|     JetBlue Airways|2013|    1|  1|   EWR|  1023.0|   6|     0|          360| PBI|\n",
            "+---+--------------------+----+-----+---+------+--------+----+------+-------------+----+\n",
            "only showing top 20 rows\n",
            "\n"
          ]
        }
      ]
    },
    {
      "cell_type": "code",
      "source": [
        "df = df.withColumn(\n",
        "    \"route\",\n",
        "    concat(col(\"origin\"), lit(\"-\"),col(\"dest\"))\n",
        ")"
      ],
      "metadata": {
        "id": "YyEiwwBTA9Ky"
      },
      "execution_count": 167,
      "outputs": []
    },
    {
      "cell_type": "code",
      "source": [
        "df.show()"
      ],
      "metadata": {
        "colab": {
          "base_uri": "https://localhost:8080/"
        },
        "id": "iF3K2lflBysF",
        "outputId": "410b2143-b112-4d75-d280-59b13e864ab2"
      },
      "execution_count": 168,
      "outputs": [
        {
          "output_type": "stream",
          "name": "stdout",
          "text": [
            "+---+--------------------+----+-----+---+------+--------+----+------+-------------+----+-------+\n",
            "| id|                name|year|month|day|origin|distance|hour|minute|minutes_total|dest|  route|\n",
            "+---+--------------------+----+-----+---+------+--------+----+------+-------------+----+-------+\n",
            "|  0|United Air Lines ...|2013|    1|  1|   EWR|  1400.0|   5|    15|          315| IAH|EWR-IAH|\n",
            "|  1|United Air Lines ...|2013|    1|  1|   LGA|  1416.0|   5|    29|          329| IAH|LGA-IAH|\n",
            "|  2|American Airlines...|2013|    1|  1|   JFK|  1089.0|   5|    40|          340| MIA|JFK-MIA|\n",
            "|  3|     JetBlue Airways|2013|    1|  1|   JFK|  1576.0|   5|    45|          345| BQN|JFK-BQN|\n",
            "|  4|Delta Air Lines Inc.|2013|    1|  1|   LGA|   762.0|   6|     0|          360| ATL|LGA-ATL|\n",
            "|  5|United Air Lines ...|2013|    1|  1|   EWR|   719.0|   5|    58|          358| ORD|EWR-ORD|\n",
            "|  6|     JetBlue Airways|2013|    1|  1|   EWR|  1065.0|   6|     0|          360| FLL|EWR-FLL|\n",
            "|  7|ExpressJet Airlin...|2013|    1|  1|   LGA|   229.0|   6|     0|          360| IAD|LGA-IAD|\n",
            "|  8|     JetBlue Airways|2013|    1|  1|   JFK|   944.0|   6|     0|          360| MCO|JFK-MCO|\n",
            "|  9|American Airlines...|2013|    1|  1|   LGA|   733.0|   6|     0|          360| ORD|LGA-ORD|\n",
            "| 10|     JetBlue Airways|2013|    1|  1|   JFK|  1028.0|   6|     0|          360| PBI|JFK-PBI|\n",
            "| 11|     JetBlue Airways|2013|    1|  1|   JFK|  1005.0|   6|     0|          360| TPA|JFK-TPA|\n",
            "| 12|United Air Lines ...|2013|    1|  1|   JFK|  2475.0|   6|     0|          360| LAX|JFK-LAX|\n",
            "| 13|United Air Lines ...|2013|    1|  1|   EWR|  2565.0|   6|     0|          360| SFO|EWR-SFO|\n",
            "| 14|American Airlines...|2013|    1|  1|   LGA|  1389.0|   6|     0|          360| DFW|LGA-DFW|\n",
            "| 15|     JetBlue Airways|2013|    1|  1|   JFK|   187.0|   5|    59|          359| BOS|JFK-BOS|\n",
            "| 16|United Air Lines ...|2013|    1|  1|   EWR|  2227.0|   6|     0|          360| LAS|EWR-LAS|\n",
            "| 17|     JetBlue Airways|2013|    1|  1|   LGA|  1076.0|   6|     0|          360| FLL|LGA-FLL|\n",
            "| 18|           Envoy Air|2013|    1|  1|   LGA|   762.0|   6|     0|          360| ATL|LGA-ATL|\n",
            "| 19|     JetBlue Airways|2013|    1|  1|   EWR|  1023.0|   6|     0|          360| PBI|EWR-PBI|\n",
            "+---+--------------------+----+-----+---+------+--------+----+------+-------------+----+-------+\n",
            "only showing top 20 rows\n",
            "\n"
          ]
        }
      ]
    },
    {
      "cell_type": "markdown",
      "source": [
        "# Codes alone don't tell us anything.\n",
        "\n",
        "We need to find a match between the airport code and the country it's in."
      ],
      "metadata": {
        "id": "b2gXWmspCa4m"
      }
    },
    {
      "cell_type": "code",
      "source": [
        "airports = spark.read.csv(\"/content/airports.csv\",header=True)\n",
        "airports = airports.drop(col(\"Information\"))"
      ],
      "metadata": {
        "id": "Eym5lAReJmwt"
      },
      "execution_count": 201,
      "outputs": []
    },
    {
      "cell_type": "code",
      "source": [
        "airports = airports.select(col(\"IATA\"), col(\"Country\"))"
      ],
      "metadata": {
        "id": "YJjbRgVxJqTQ"
      },
      "execution_count": 204,
      "outputs": []
    },
    {
      "cell_type": "code",
      "source": [
        "airports.show()"
      ],
      "metadata": {
        "colab": {
          "base_uri": "https://localhost:8080/"
        },
        "id": "8TET_jNXKIE-",
        "outputId": "d5377351-9ec0-474f-9548-1d3963aa1006"
      },
      "execution_count": 205,
      "outputs": [
        {
          "output_type": "stream",
          "name": "stdout",
          "text": [
            "+----+--------------------+\n",
            "|IATA|             Country|\n",
            "+----+--------------------+\n",
            "| AAA|    French Polynesia|\n",
            "| AAB|           Australia|\n",
            "| AAC|               Egypt|\n",
            "| AAD|             Somalia|\n",
            "| AAE|             Algeria|\n",
            "| AAF|United States of ...|\n",
            "| AAG|              Brazil|\n",
            "| AAH|             Germany|\n",
            "| AAI|              Brazil|\n",
            "| AAJ|            Suriname|\n",
            "| AAK|            Kiribati|\n",
            "| AAL|             Denmark|\n",
            "| AAM|        South Africa|\n",
            "| AAN|United Arab Emirates|\n",
            "| AAO|           Venezuela|\n",
            "| AAP|           Indonesia|\n",
            "| AAQ|              Russia|\n",
            "| AAR|             Denmark|\n",
            "| AAS|           Indonesia|\n",
            "| AAT|               China|\n",
            "+----+--------------------+\n",
            "only showing top 20 rows\n",
            "\n"
          ]
        }
      ]
    },
    {
      "cell_type": "code",
      "source": [
        "df.show()"
      ],
      "metadata": {
        "colab": {
          "base_uri": "https://localhost:8080/"
        },
        "id": "tveskvTdKLE7",
        "outputId": "d6ee7e74-0ec9-45cd-f91d-e83ea4d858fa"
      },
      "execution_count": 206,
      "outputs": [
        {
          "output_type": "stream",
          "name": "stdout",
          "text": [
            "+---+--------------------+----+-----+---+------+--------+----+------+-------------+----+-------+\n",
            "| id|                name|year|month|day|origin|distance|hour|minute|minutes_total|dest|  route|\n",
            "+---+--------------------+----+-----+---+------+--------+----+------+-------------+----+-------+\n",
            "|  0|United Air Lines ...|2013|    1|  1|   EWR|  1400.0|   5|    15|          315| IAH|EWR-IAH|\n",
            "|  1|United Air Lines ...|2013|    1|  1|   LGA|  1416.0|   5|    29|          329| IAH|LGA-IAH|\n",
            "|  2|American Airlines...|2013|    1|  1|   JFK|  1089.0|   5|    40|          340| MIA|JFK-MIA|\n",
            "|  3|     JetBlue Airways|2013|    1|  1|   JFK|  1576.0|   5|    45|          345| BQN|JFK-BQN|\n",
            "|  4|Delta Air Lines Inc.|2013|    1|  1|   LGA|   762.0|   6|     0|          360| ATL|LGA-ATL|\n",
            "|  5|United Air Lines ...|2013|    1|  1|   EWR|   719.0|   5|    58|          358| ORD|EWR-ORD|\n",
            "|  6|     JetBlue Airways|2013|    1|  1|   EWR|  1065.0|   6|     0|          360| FLL|EWR-FLL|\n",
            "|  7|ExpressJet Airlin...|2013|    1|  1|   LGA|   229.0|   6|     0|          360| IAD|LGA-IAD|\n",
            "|  8|     JetBlue Airways|2013|    1|  1|   JFK|   944.0|   6|     0|          360| MCO|JFK-MCO|\n",
            "|  9|American Airlines...|2013|    1|  1|   LGA|   733.0|   6|     0|          360| ORD|LGA-ORD|\n",
            "| 10|     JetBlue Airways|2013|    1|  1|   JFK|  1028.0|   6|     0|          360| PBI|JFK-PBI|\n",
            "| 11|     JetBlue Airways|2013|    1|  1|   JFK|  1005.0|   6|     0|          360| TPA|JFK-TPA|\n",
            "| 12|United Air Lines ...|2013|    1|  1|   JFK|  2475.0|   6|     0|          360| LAX|JFK-LAX|\n",
            "| 13|United Air Lines ...|2013|    1|  1|   EWR|  2565.0|   6|     0|          360| SFO|EWR-SFO|\n",
            "| 14|American Airlines...|2013|    1|  1|   LGA|  1389.0|   6|     0|          360| DFW|LGA-DFW|\n",
            "| 15|     JetBlue Airways|2013|    1|  1|   JFK|   187.0|   5|    59|          359| BOS|JFK-BOS|\n",
            "| 16|United Air Lines ...|2013|    1|  1|   EWR|  2227.0|   6|     0|          360| LAS|EWR-LAS|\n",
            "| 17|     JetBlue Airways|2013|    1|  1|   LGA|  1076.0|   6|     0|          360| FLL|LGA-FLL|\n",
            "| 18|           Envoy Air|2013|    1|  1|   LGA|   762.0|   6|     0|          360| ATL|LGA-ATL|\n",
            "| 19|     JetBlue Airways|2013|    1|  1|   EWR|  1023.0|   6|     0|          360| PBI|EWR-PBI|\n",
            "+---+--------------------+----+-----+---+------+--------+----+------+-------------+----+-------+\n",
            "only showing top 20 rows\n",
            "\n"
          ]
        }
      ]
    },
    {
      "cell_type": "code",
      "source": [
        "df = df.withColumnRenamed(\"name\",\"airline_name\")"
      ],
      "metadata": {
        "id": "j4L8nMnAJz1h"
      },
      "execution_count": 207,
      "outputs": []
    },
    {
      "cell_type": "code",
      "source": [
        "df = df.join(\n",
        "    airports,\n",
        "    df.origin == airports.IATA,\n",
        "    \"inner\"\n",
        ")"
      ],
      "metadata": {
        "id": "uc3ApRZzKmHS"
      },
      "execution_count": 209,
      "outputs": []
    },
    {
      "cell_type": "code",
      "source": [
        "df = df.withColumnRenamed(\"Country\",\"country_origin\")"
      ],
      "metadata": {
        "id": "mhXYiZN-Km0j"
      },
      "execution_count": 212,
      "outputs": []
    },
    {
      "cell_type": "code",
      "source": [
        "df = df.drop(col(\"IATA\"))"
      ],
      "metadata": {
        "id": "bVF3nwJULhN7"
      },
      "execution_count": 215,
      "outputs": []
    },
    {
      "cell_type": "code",
      "source": [
        "df = df.join(\n",
        "    airports,\n",
        "    df.dest == airports.IATA,\n",
        "    \"inner\"\n",
        ")"
      ],
      "metadata": {
        "id": "_kC1e0KpK4UR"
      },
      "execution_count": 216,
      "outputs": []
    },
    {
      "cell_type": "code",
      "source": [
        "df = df.drop(col(\"IATA\"))"
      ],
      "metadata": {
        "id": "El9fKvuYLbvI"
      },
      "execution_count": 217,
      "outputs": []
    },
    {
      "cell_type": "code",
      "source": [
        "df = df.withColumnRenamed(\"Country\",\"country_dest\")"
      ],
      "metadata": {
        "id": "fnbPX5_bLoJt"
      },
      "execution_count": 220,
      "outputs": []
    },
    {
      "cell_type": "code",
      "source": [
        "df.show()"
      ],
      "metadata": {
        "colab": {
          "base_uri": "https://localhost:8080/"
        },
        "id": "Iv7NXndULpFy",
        "outputId": "d120a11d-d39b-4f74-efcc-6a0cb7084a80"
      },
      "execution_count": 221,
      "outputs": [
        {
          "output_type": "stream",
          "name": "stdout",
          "text": [
            "+---+--------------------+----+-----+---+------+--------+----+------+-------------+----+-------+--------------------+--------------------+\n",
            "| id|        airline_name|year|month|day|origin|distance|hour|minute|minutes_total|dest|  route|      country_origin|        country_dest|\n",
            "+---+--------------------+----+-----+---+------+--------+----+------+-------------+----+-------+--------------------+--------------------+\n",
            "|  0|United Air Lines ...|2013|    1|  1|   EWR|  1400.0|   5|    15|          315| IAH|EWR-IAH|United States of ...|United States of ...|\n",
            "|  1|United Air Lines ...|2013|    1|  1|   LGA|  1416.0|   5|    29|          329| IAH|LGA-IAH|United States of ...|United States of ...|\n",
            "|  2|American Airlines...|2013|    1|  1|   JFK|  1089.0|   5|    40|          340| MIA|JFK-MIA|United States of ...|United States of ...|\n",
            "|  3|     JetBlue Airways|2013|    1|  1|   JFK|  1576.0|   5|    45|          345| BQN|JFK-BQN|United States of ...|         Puerto Rico|\n",
            "|  4|Delta Air Lines Inc.|2013|    1|  1|   LGA|   762.0|   6|     0|          360| ATL|LGA-ATL|United States of ...|United States of ...|\n",
            "|  5|United Air Lines ...|2013|    1|  1|   EWR|   719.0|   5|    58|          358| ORD|EWR-ORD|United States of ...|United States of ...|\n",
            "|  6|     JetBlue Airways|2013|    1|  1|   EWR|  1065.0|   6|     0|          360| FLL|EWR-FLL|United States of ...|United States of ...|\n",
            "|  7|ExpressJet Airlin...|2013|    1|  1|   LGA|   229.0|   6|     0|          360| IAD|LGA-IAD|United States of ...|United States of ...|\n",
            "|  8|     JetBlue Airways|2013|    1|  1|   JFK|   944.0|   6|     0|          360| MCO|JFK-MCO|United States of ...|United States of ...|\n",
            "|  9|American Airlines...|2013|    1|  1|   LGA|   733.0|   6|     0|          360| ORD|LGA-ORD|United States of ...|United States of ...|\n",
            "| 10|     JetBlue Airways|2013|    1|  1|   JFK|  1028.0|   6|     0|          360| PBI|JFK-PBI|United States of ...|United States of ...|\n",
            "| 11|     JetBlue Airways|2013|    1|  1|   JFK|  1005.0|   6|     0|          360| TPA|JFK-TPA|United States of ...|United States of ...|\n",
            "| 12|United Air Lines ...|2013|    1|  1|   JFK|  2475.0|   6|     0|          360| LAX|JFK-LAX|United States of ...|United States of ...|\n",
            "| 13|United Air Lines ...|2013|    1|  1|   EWR|  2565.0|   6|     0|          360| SFO|EWR-SFO|United States of ...|United States of ...|\n",
            "| 14|American Airlines...|2013|    1|  1|   LGA|  1389.0|   6|     0|          360| DFW|LGA-DFW|United States of ...|United States of ...|\n",
            "| 15|     JetBlue Airways|2013|    1|  1|   JFK|   187.0|   5|    59|          359| BOS|JFK-BOS|United States of ...|United States of ...|\n",
            "| 16|United Air Lines ...|2013|    1|  1|   EWR|  2227.0|   6|     0|          360| LAS|EWR-LAS|United States of ...|United States of ...|\n",
            "| 17|     JetBlue Airways|2013|    1|  1|   LGA|  1076.0|   6|     0|          360| FLL|LGA-FLL|United States of ...|United States of ...|\n",
            "| 18|           Envoy Air|2013|    1|  1|   LGA|   762.0|   6|     0|          360| ATL|LGA-ATL|United States of ...|United States of ...|\n",
            "| 19|     JetBlue Airways|2013|    1|  1|   EWR|  1023.0|   6|     0|          360| PBI|EWR-PBI|United States of ...|United States of ...|\n",
            "+---+--------------------+----+-----+---+------+--------+----+------+-------------+----+-------+--------------------+--------------------+\n",
            "only showing top 20 rows\n",
            "\n"
          ]
        }
      ]
    },
    {
      "cell_type": "code",
      "source": [
        "df.show()"
      ],
      "metadata": {
        "colab": {
          "base_uri": "https://localhost:8080/"
        },
        "id": "xs9rwVyjL9A3",
        "outputId": "fe85febf-7936-4f13-b0c9-e822e87bcd09"
      },
      "execution_count": 225,
      "outputs": [
        {
          "output_type": "stream",
          "name": "stdout",
          "text": [
            "+---+--------------------+----+-----+---+------+--------+----+------+-------------+----+-------+--------------------+--------------------+\n",
            "| id|        airline_name|year|month|day|origin|distance|hour|minute|minutes_total|dest|  route|      country_origin|        country_dest|\n",
            "+---+--------------------+----+-----+---+------+--------+----+------+-------------+----+-------+--------------------+--------------------+\n",
            "|  0|United Air Lines ...|2013|    1|  1|   EWR|  1400.0|   5|    15|          315| IAH|EWR-IAH|United States of ...|United States of ...|\n",
            "|  1|United Air Lines ...|2013|    1|  1|   LGA|  1416.0|   5|    29|          329| IAH|LGA-IAH|United States of ...|United States of ...|\n",
            "|  2|American Airlines...|2013|    1|  1|   JFK|  1089.0|   5|    40|          340| MIA|JFK-MIA|United States of ...|United States of ...|\n",
            "|  3|     JetBlue Airways|2013|    1|  1|   JFK|  1576.0|   5|    45|          345| BQN|JFK-BQN|United States of ...|         Puerto Rico|\n",
            "|  4|Delta Air Lines Inc.|2013|    1|  1|   LGA|   762.0|   6|     0|          360| ATL|LGA-ATL|United States of ...|United States of ...|\n",
            "|  5|United Air Lines ...|2013|    1|  1|   EWR|   719.0|   5|    58|          358| ORD|EWR-ORD|United States of ...|United States of ...|\n",
            "|  6|     JetBlue Airways|2013|    1|  1|   EWR|  1065.0|   6|     0|          360| FLL|EWR-FLL|United States of ...|United States of ...|\n",
            "|  7|ExpressJet Airlin...|2013|    1|  1|   LGA|   229.0|   6|     0|          360| IAD|LGA-IAD|United States of ...|United States of ...|\n",
            "|  8|     JetBlue Airways|2013|    1|  1|   JFK|   944.0|   6|     0|          360| MCO|JFK-MCO|United States of ...|United States of ...|\n",
            "|  9|American Airlines...|2013|    1|  1|   LGA|   733.0|   6|     0|          360| ORD|LGA-ORD|United States of ...|United States of ...|\n",
            "| 10|     JetBlue Airways|2013|    1|  1|   JFK|  1028.0|   6|     0|          360| PBI|JFK-PBI|United States of ...|United States of ...|\n",
            "| 11|     JetBlue Airways|2013|    1|  1|   JFK|  1005.0|   6|     0|          360| TPA|JFK-TPA|United States of ...|United States of ...|\n",
            "| 12|United Air Lines ...|2013|    1|  1|   JFK|  2475.0|   6|     0|          360| LAX|JFK-LAX|United States of ...|United States of ...|\n",
            "| 13|United Air Lines ...|2013|    1|  1|   EWR|  2565.0|   6|     0|          360| SFO|EWR-SFO|United States of ...|United States of ...|\n",
            "| 14|American Airlines...|2013|    1|  1|   LGA|  1389.0|   6|     0|          360| DFW|LGA-DFW|United States of ...|United States of ...|\n",
            "| 15|     JetBlue Airways|2013|    1|  1|   JFK|   187.0|   5|    59|          359| BOS|JFK-BOS|United States of ...|United States of ...|\n",
            "| 16|United Air Lines ...|2013|    1|  1|   EWR|  2227.0|   6|     0|          360| LAS|EWR-LAS|United States of ...|United States of ...|\n",
            "| 17|     JetBlue Airways|2013|    1|  1|   LGA|  1076.0|   6|     0|          360| FLL|LGA-FLL|United States of ...|United States of ...|\n",
            "| 18|           Envoy Air|2013|    1|  1|   LGA|   762.0|   6|     0|          360| ATL|LGA-ATL|United States of ...|United States of ...|\n",
            "| 19|     JetBlue Airways|2013|    1|  1|   EWR|  1023.0|   6|     0|          360| PBI|EWR-PBI|United States of ...|United States of ...|\n",
            "+---+--------------------+----+-----+---+------+--------+----+------+-------------+----+-------+--------------------+--------------------+\n",
            "only showing top 20 rows\n",
            "\n"
          ]
        }
      ]
    },
    {
      "cell_type": "code",
      "source": [
        "df.select(col(\"airline_name\"),col(\"minutes_total\")).distinct().orderBy(col(\"minutes_total\").desc()).show()"
      ],
      "metadata": {
        "colab": {
          "base_uri": "https://localhost:8080/"
        },
        "id": "K8X5mhhdMVkN",
        "outputId": "169ed0ac-f06c-4f2f-f6b2-4cbd44d6357d"
      },
      "execution_count": 236,
      "outputs": [
        {
          "output_type": "stream",
          "name": "stdout",
          "text": [
            "+--------------------+-------------+\n",
            "|        airline_name|minutes_total|\n",
            "+--------------------+-------------+\n",
            "|Delta Air Lines Inc.|         1439|\n",
            "|     JetBlue Airways|         1439|\n",
            "|     JetBlue Airways|         1438|\n",
            "|Delta Air Lines Inc.|         1435|\n",
            "|     JetBlue Airways|         1435|\n",
            "|     JetBlue Airways|         1432|\n",
            "|United Air Lines ...|         1425|\n",
            "|United Air Lines ...|         1419|\n",
            "|     JetBlue Airways|         1410|\n",
            "|     JetBlue Airways|         1395|\n",
            "|     JetBlue Airways|         1385|\n",
            "|United Air Lines ...|         1380|\n",
            "|     JetBlue Airways|         1380|\n",
            "|     JetBlue Airways|         1378|\n",
            "|     JetBlue Airways|         1375|\n",
            "|     JetBlue Airways|         1373|\n",
            "|     JetBlue Airways|         1371|\n",
            "|     JetBlue Airways|         1370|\n",
            "|     JetBlue Airways|         1369|\n",
            "|     JetBlue Airways|         1366|\n",
            "+--------------------+-------------+\n",
            "only showing top 20 rows\n",
            "\n"
          ]
        }
      ]
    },
    {
      "cell_type": "code",
      "source": [
        "df.show()"
      ],
      "metadata": {
        "colab": {
          "base_uri": "https://localhost:8080/"
        },
        "id": "ZCokv9waM4hj",
        "outputId": "b97f332f-ccb1-4eac-a564-cc4398e36245"
      },
      "execution_count": 237,
      "outputs": [
        {
          "output_type": "stream",
          "name": "stdout",
          "text": [
            "+---+--------------------+----+-----+---+------+--------+----+------+-------------+----+-------+--------------------+--------------------+\n",
            "| id|        airline_name|year|month|day|origin|distance|hour|minute|minutes_total|dest|  route|      country_origin|        country_dest|\n",
            "+---+--------------------+----+-----+---+------+--------+----+------+-------------+----+-------+--------------------+--------------------+\n",
            "|  0|United Air Lines ...|2013|    1|  1|   EWR|  1400.0|   5|    15|          315| IAH|EWR-IAH|United States of ...|United States of ...|\n",
            "|  1|United Air Lines ...|2013|    1|  1|   LGA|  1416.0|   5|    29|          329| IAH|LGA-IAH|United States of ...|United States of ...|\n",
            "|  2|American Airlines...|2013|    1|  1|   JFK|  1089.0|   5|    40|          340| MIA|JFK-MIA|United States of ...|United States of ...|\n",
            "|  3|     JetBlue Airways|2013|    1|  1|   JFK|  1576.0|   5|    45|          345| BQN|JFK-BQN|United States of ...|         Puerto Rico|\n",
            "|  4|Delta Air Lines Inc.|2013|    1|  1|   LGA|   762.0|   6|     0|          360| ATL|LGA-ATL|United States of ...|United States of ...|\n",
            "|  5|United Air Lines ...|2013|    1|  1|   EWR|   719.0|   5|    58|          358| ORD|EWR-ORD|United States of ...|United States of ...|\n",
            "|  6|     JetBlue Airways|2013|    1|  1|   EWR|  1065.0|   6|     0|          360| FLL|EWR-FLL|United States of ...|United States of ...|\n",
            "|  7|ExpressJet Airlin...|2013|    1|  1|   LGA|   229.0|   6|     0|          360| IAD|LGA-IAD|United States of ...|United States of ...|\n",
            "|  8|     JetBlue Airways|2013|    1|  1|   JFK|   944.0|   6|     0|          360| MCO|JFK-MCO|United States of ...|United States of ...|\n",
            "|  9|American Airlines...|2013|    1|  1|   LGA|   733.0|   6|     0|          360| ORD|LGA-ORD|United States of ...|United States of ...|\n",
            "| 10|     JetBlue Airways|2013|    1|  1|   JFK|  1028.0|   6|     0|          360| PBI|JFK-PBI|United States of ...|United States of ...|\n",
            "| 11|     JetBlue Airways|2013|    1|  1|   JFK|  1005.0|   6|     0|          360| TPA|JFK-TPA|United States of ...|United States of ...|\n",
            "| 12|United Air Lines ...|2013|    1|  1|   JFK|  2475.0|   6|     0|          360| LAX|JFK-LAX|United States of ...|United States of ...|\n",
            "| 13|United Air Lines ...|2013|    1|  1|   EWR|  2565.0|   6|     0|          360| SFO|EWR-SFO|United States of ...|United States of ...|\n",
            "| 14|American Airlines...|2013|    1|  1|   LGA|  1389.0|   6|     0|          360| DFW|LGA-DFW|United States of ...|United States of ...|\n",
            "| 15|     JetBlue Airways|2013|    1|  1|   JFK|   187.0|   5|    59|          359| BOS|JFK-BOS|United States of ...|United States of ...|\n",
            "| 16|United Air Lines ...|2013|    1|  1|   EWR|  2227.0|   6|     0|          360| LAS|EWR-LAS|United States of ...|United States of ...|\n",
            "| 17|     JetBlue Airways|2013|    1|  1|   LGA|  1076.0|   6|     0|          360| FLL|LGA-FLL|United States of ...|United States of ...|\n",
            "| 18|           Envoy Air|2013|    1|  1|   LGA|   762.0|   6|     0|          360| ATL|LGA-ATL|United States of ...|United States of ...|\n",
            "| 19|     JetBlue Airways|2013|    1|  1|   EWR|  1023.0|   6|     0|          360| PBI|EWR-PBI|United States of ...|United States of ...|\n",
            "+---+--------------------+----+-----+---+------+--------+----+------+-------------+----+-------+--------------------+--------------------+\n",
            "only showing top 20 rows\n",
            "\n"
          ]
        }
      ]
    },
    {
      "cell_type": "code",
      "source": [
        "windows_spec = Window.partitionBy(\"airline_name\").orderBy(col(\"distance\").desc())\n",
        "df_ranked = df.withColumn(\"distance_rank\", rank().over(window_spec))\n",
        "df_ranked = df_ranked.filter(col(\"distance_rank\") == 1)\n",
        "df_ranked.filter(col(\"month\") == '12').show()"
      ],
      "metadata": {
        "colab": {
          "base_uri": "https://localhost:8080/"
        },
        "id": "J3kuHYQUZqh3",
        "outputId": "2934cfea-4f5e-4873-f644-698577e76b9d"
      },
      "execution_count": 257,
      "outputs": [
        {
          "output_type": "stream",
          "name": "stdout",
          "text": [
            "+------+--------------------+----+-----+---+------+--------+----+------+-------------+----+-------+--------------------+--------------------+-------------+\n",
            "|    id|        airline_name|year|month|day|origin|distance|hour|minute|minutes_total|dest|  route|      country_origin|        country_dest|distance_rank|\n",
            "+------+--------------------+----+-----+---+------+--------+----+------+-------------+----+-------+--------------------+--------------------+-------------+\n",
            "| 83247|Alaska Airlines Inc.|2013|   12|  1|   EWR|  2402.0|   7|     5|          425| SEA|EWR-SEA|United States of ...|United States of ...|            1|\n",
            "| 84240|Alaska Airlines Inc.|2013|   12|  2|   EWR|  2402.0|   7|     5|          425| SEA|EWR-SEA|United States of ...|United States of ...|            1|\n",
            "| 85257|Alaska Airlines Inc.|2013|   12|  3|   EWR|  2402.0|   7|     5|          425| SEA|EWR-SEA|United States of ...|United States of ...|            1|\n",
            "| 88138|Alaska Airlines Inc.|2013|   12|  6|   EWR|  2402.0|   7|     5|          425| SEA|EWR-SEA|United States of ...|United States of ...|            1|\n",
            "| 89087|Alaska Airlines Inc.|2013|   12|  7|   EWR|  2402.0|   7|     5|          425| SEA|EWR-SEA|United States of ...|United States of ...|            1|\n",
            "| 90664|Alaska Airlines Inc.|2013|   12|  9|   EWR|  2402.0|   7|     5|          425| SEA|EWR-SEA|United States of ...|United States of ...|            1|\n",
            "| 91630|Alaska Airlines Inc.|2013|   12| 10|   EWR|  2402.0|   7|     5|          425| SEA|EWR-SEA|United States of ...|United States of ...|            1|\n",
            "| 94513|Alaska Airlines Inc.|2013|   12| 13|   EWR|  2402.0|   7|     5|          425| SEA|EWR-SEA|United States of ...|United States of ...|            1|\n",
            "| 95458|Alaska Airlines Inc.|2013|   12| 14|   EWR|  2402.0|   7|     5|          425| SEA|EWR-SEA|United States of ...|United States of ...|            1|\n",
            "| 97042|Alaska Airlines Inc.|2013|   12| 16|   EWR|  2402.0|   7|     5|          425| SEA|EWR-SEA|United States of ...|United States of ...|            1|\n",
            "| 98028|Alaska Airlines Inc.|2013|   12| 17|   EWR|  2402.0|   7|     5|          425| SEA|EWR-SEA|United States of ...|United States of ...|            1|\n",
            "|100930|Alaska Airlines Inc.|2013|   12| 20|   EWR|  2402.0|   7|     5|          425| SEA|EWR-SEA|United States of ...|United States of ...|            1|\n",
            "|101861|Alaska Airlines Inc.|2013|   12| 21|   EWR|  2402.0|   7|     5|          425| SEA|EWR-SEA|United States of ...|United States of ...|            1|\n",
            "|102661|Alaska Airlines Inc.|2013|   12| 22|   EWR|  2402.0|   7|     5|          425| SEA|EWR-SEA|United States of ...|United States of ...|            1|\n",
            "|103641|Alaska Airlines Inc.|2013|   12| 23|   EWR|  2402.0|   7|     5|          425| SEA|EWR-SEA|United States of ...|United States of ...|            1|\n",
            "|104542|Alaska Airlines Inc.|2013|   12| 24|   EWR|  2402.0|   7|     5|          425| SEA|EWR-SEA|United States of ...|United States of ...|            1|\n",
            "|105279|Alaska Airlines Inc.|2013|   12| 25|   EWR|  2402.0|   7|     5|          425| SEA|EWR-SEA|United States of ...|United States of ...|            1|\n",
            "|106042|Alaska Airlines Inc.|2013|   12| 26|   EWR|  2402.0|   7|     5|          425| SEA|EWR-SEA|United States of ...|United States of ...|            1|\n",
            "|106996|Alaska Airlines Inc.|2013|   12| 27|   EWR|  2402.0|   7|     5|          425| SEA|EWR-SEA|United States of ...|United States of ...|            1|\n",
            "|107948|Alaska Airlines Inc.|2013|   12| 28|   EWR|  2402.0|   7|     5|          425| SEA|EWR-SEA|United States of ...|United States of ...|            1|\n",
            "+------+--------------------+----+-----+---+------+--------+----+------+-------------+----+-------+--------------------+--------------------+-------------+\n",
            "only showing top 20 rows\n",
            "\n"
          ]
        }
      ]
    },
    {
      "cell_type": "code",
      "source": [
        "window_spec = Window.partitionBy(\"airline_name\").orderBy(col(\"minutes_total\"))\n",
        "\n",
        "df_ranked = df.withColumn(\"flight_rank\", row_number().over(window_spec))\n",
        "\n",
        "df_ranked = df_ranked.filter(col(\"flight_rank\") == 1)\n",
        "\n",
        "df_ranked.show()"
      ],
      "metadata": {
        "colab": {
          "base_uri": "https://localhost:8080/"
        },
        "id": "9HVR9zu5SGnV",
        "outputId": "1e52329f-9a82-4f68-b832-a23380c1acd2"
      },
      "execution_count": 245,
      "outputs": [
        {
          "output_type": "stream",
          "name": "stdout",
          "text": [
            "+------+--------------------+----+-----+---+------+--------+----+------+-------------+----+-------+--------------------+--------------------+-----------+\n",
            "|    id|        airline_name|year|month|day|origin|distance|hour|minute|minutes_total|dest|  route|      country_origin|        country_dest|flight_rank|\n",
            "+------+--------------------+----+-----+---+------+--------+----+------+-------------+----+-------+--------------------+--------------------+-----------+\n",
            "|   858|AirTran Airways C...|2013|    1|  2|   LGA|   762.0|   6|     0|          360| ATL|LGA-ATL|United States of ...|United States of ...|          1|\n",
            "| 58577|Alaska Airlines Inc.|2013|   11|  4|   EWR|  2402.0|   7|     5|          425| SEA|EWR-SEA|United States of ...|United States of ...|          1|\n",
            "|     2|American Airlines...|2013|    1|  1|   JFK|  1089.0|   5|    40|          340| MIA|JFK-MIA|United States of ...|United States of ...|          1|\n",
            "|     4|Delta Air Lines Inc.|2013|    1|  1|   LGA|   762.0|   6|     0|          360| ATL|LGA-ATL|United States of ...|United States of ...|          1|\n",
            "|   864|   Endeavor Air Inc.|2013|    1|  2|   EWR|   569.0|   6|     0|          360| CVG|EWR-CVG|United States of ...|United States of ...|          1|\n",
            "|    18|           Envoy Air|2013|    1|  1|   LGA|   762.0|   6|     0|          360| ATL|LGA-ATL|United States of ...|United States of ...|          1|\n",
            "|176604|ExpressJet Airlin...|2013|    4| 13|   EWR|   116.0|   5|    27|          327| BDL|EWR-BDL|United States of ...|United States of ...|          1|\n",
            "|256763|Frontier Airlines...|2013|    7|  8|   LGA|  1620.0|   7|    30|          450| DEN|LGA-DEN|United States of ...|United States of ...|          1|\n",
            "|   162|Hawaiian Airlines...|2013|    1|  1|   JFK|  4983.0|   9|     0|          540| HNL|JFK-HNL|United States of ...|United States of ...|          1|\n",
            "|  5170|     JetBlue Airways|2013|    1|  7|   JFK|  1576.0|   5|    40|          340| BQN|JFK-BQN|United States of ...|         Puerto Rico|          1|\n",
            "|125229|  Mesa Airlines Inc.|2013|    2| 17|   LGA|   229.0|   6|     0|          360| IAD|LGA-IAD|United States of ...|United States of ...|          1|\n",
            "| 25525|SkyWest Airlines ...|2013|    1| 30|   LGA|   733.0|  11|    15|          675| ORD|LGA-ORD|United States of ...|United States of ...|          1|\n",
            "|   866|Southwest Airline...|2013|    1|  2|   LGA|   725.0|   6|     0|          360| MDW|LGA-MDW|United States of ...|United States of ...|          1|\n",
            "|275945|     US Airways Inc.|2013|    7| 27|   EWR|    17.0|   1|     6|           66| LGA|EWR-LGA|United States of ...|United States of ...|          1|\n",
            "| 36467|United Air Lines ...|2013|   10| 11|   EWR|  1400.0|   5|     0|          300| IAH|EWR-IAH|United States of ...|United States of ...|          1|\n",
            "|    63|      Virgin America|2013|    1|  1|   JFK|  2475.0|   7|     0|          420| LAX|JFK-LAX|United States of ...|United States of ...|          1|\n",
            "+------+--------------------+----+-----+---+------+--------+----+------+-------------+----+-------+--------------------+--------------------+-----------+\n",
            "\n"
          ]
        }
      ]
    },
    {
      "cell_type": "code",
      "source": [
        "df.groupBy(\n",
        "    col(\"airline_name\")\n",
        ").agg(\n",
        "    count(\"*\") # funkcja agregująca\n",
        ").show()"
      ],
      "metadata": {
        "colab": {
          "base_uri": "https://localhost:8080/"
        },
        "id": "Al4ExEwvTjBI",
        "outputId": "95e5392e-60f8-4f16-f6c0-f4c1488014e4"
      },
      "execution_count": 261,
      "outputs": [
        {
          "output_type": "stream",
          "name": "stdout",
          "text": [
            "+--------------------+--------+\n",
            "|        airline_name|count(1)|\n",
            "+--------------------+--------+\n",
            "|   Endeavor Air Inc.|   18460|\n",
            "|      Virgin America|    5162|\n",
            "|SkyWest Airlines ...|      32|\n",
            "|United Air Lines ...|   58665|\n",
            "|Frontier Airlines...|     685|\n",
            "|Southwest Airline...|   12275|\n",
            "|ExpressJet Airlin...|   54173|\n",
            "|     JetBlue Airways|   54635|\n",
            "|AirTran Airways C...|    3260|\n",
            "|     US Airways Inc.|   20536|\n",
            "|           Envoy Air|   26397|\n",
            "|Hawaiian Airlines...|     342|\n",
            "|Alaska Airlines Inc.|     714|\n",
            "|Delta Air Lines Inc.|   48110|\n",
            "|  Mesa Airlines Inc.|     601|\n",
            "|American Airlines...|   32729|\n",
            "+--------------------+--------+\n",
            "\n"
          ]
        }
      ]
    },
    {
      "cell_type": "code",
      "source": [
        "df.groupBy(\n",
        "    col(\"airline_name\")\n",
        ").agg(\n",
        "    sum(col(\"distance\")).alias(\"sum_dist\")\n",
        ").show()"
      ],
      "metadata": {
        "colab": {
          "base_uri": "https://localhost:8080/"
        },
        "id": "uKPIGHXudgqJ",
        "outputId": "7ec99814-0e9c-429b-da1f-ea6b390e90c9"
      },
      "execution_count": 264,
      "outputs": [
        {
          "output_type": "stream",
          "name": "stdout",
          "text": [
            "+--------------------+-----------+\n",
            "|        airline_name|   sum_dist|\n",
            "+--------------------+-----------+\n",
            "|   Endeavor Air Inc.|  9788152.0|\n",
            "|      Virgin America|1.2902327E7|\n",
            "|SkyWest Airlines ...|    16026.0|\n",
            "|United Air Lines ...|8.9705524E7|\n",
            "|Frontier Airlines...|  1109700.0|\n",
            "|Southwest Airline...|1.2229203E7|\n",
            "|ExpressJet Airlin...|3.0498951E7|\n",
            "|     JetBlue Airways|5.8384137E7|\n",
            "|AirTran Airways C...|  2167344.0|\n",
            "|     US Airways Inc.|1.1365778E7|\n",
            "|           Envoy Air|1.5033955E7|\n",
            "|Hawaiian Airlines...|  1704186.0|\n",
            "|Alaska Airlines Inc.|  1715028.0|\n",
            "|Delta Air Lines Inc.|5.9507317E7|\n",
            "|  Mesa Airlines Inc.|   225395.0|\n",
            "|American Airlines...|4.3864584E7|\n",
            "+--------------------+-----------+\n",
            "\n"
          ]
        }
      ]
    },
    {
      "cell_type": "code",
      "source": [
        "window_speed = Window.partitionBy(\"airline_name\").orderBy(col(\"distance\").desc())\n",
        "df_with_win_speed = df.withColumn(\"sum_dist\",sum(col(\"distance\")).over(window_speed))"
      ],
      "metadata": {
        "colab": {
          "base_uri": "https://localhost:8080/"
        },
        "id": "QbxM8uk0eslJ",
        "outputId": "a52db04b-0723-4588-e5ce-6d567c3183c3"
      },
      "execution_count": 281,
      "outputs": [
        {
          "output_type": "stream",
          "name": "stdout",
          "text": [
            "+---+-----------------+----+-----+---+------+--------+----+------+-------------+----+-------+--------------------+--------------------+---------+\n",
            "| id|     airline_name|year|month|day|origin|distance|hour|minute|minutes_total|dest|  route|      country_origin|        country_dest| sum_dist|\n",
            "+---+-----------------+----+-----+---+------+--------+----+------+-------------+----+-------+--------------------+--------------------+---------+\n",
            "|116|Endeavor Air Inc.|2013|    1|  1|   JFK|  1029.0|   8|    10|          490| MSP|JFK-MSP|United States of ...|United States of ...|9788152.0|\n",
            "|427|Endeavor Air Inc.|2013|    1|  1|   JFK|   228.0|  15|     0|          900| IAD|JFK-IAD|United States of ...|United States of ...|9788152.0|\n",
            "|428|Endeavor Air Inc.|2013|    1|  1|   JFK|   301.0|  14|    55|          895| BUF|JFK-BUF|United States of ...|United States of ...|9788152.0|\n",
            "|433|Endeavor Air Inc.|2013|    1|  1|   JFK|   209.0|  15|     0|          900| SYR|JFK-SYR|United States of ...|United States of ...|9788152.0|\n",
            "|451|Endeavor Air Inc.|2013|    1|  1|   JFK|   264.0|  15|    15|          915| ROC|JFK-ROC|United States of ...|United States of ...|9788152.0|\n",
            "|481|Endeavor Air Inc.|2013|    1|  1|   JFK|   184.0|  15|    30|          930| BWI|JFK-BWI|United States of ...|United States of ...|9788152.0|\n",
            "|495|Endeavor Air Inc.|2013|    1|  1|   JFK|   740.0|  15|    40|          940| ORD|JFK-ORD|United States of ...|United States of ...|9788152.0|\n",
            "|500|Endeavor Air Inc.|2013|    1|  1|   JFK|   665.0|  15|    50|          950| IND|JFK-IND|United States of ...|United States of ...|9788152.0|\n",
            "|503|Endeavor Air Inc.|2013|    1|  1|   JFK|   765.0|  16|     0|          960| BNA|JFK-BNA|United States of ...|United States of ...|9788152.0|\n",
            "|505|Endeavor Air Inc.|2013|    1|  1|   JFK|   187.0|  16|     0|          960| BOS|JFK-BOS|United States of ...|United States of ...|9788152.0|\n",
            "|515|Endeavor Air Inc.|2013|    1|  1|   JFK|    94.0|  16|    10|          970| PHL|JFK-PHL|United States of ...|United States of ...|9788152.0|\n",
            "|556|Endeavor Air Inc.|2013|    1|  1|   JFK|  1029.0|  15|    45|          945| MSP|JFK-MSP|United States of ...|United States of ...|9788152.0|\n",
            "|617|Endeavor Air Inc.|2013|    1|  1|   JFK|   427.0|  16|    15|          975| RDU|JFK-RDU|United States of ...|United States of ...|9788152.0|\n",
            "|657|Endeavor Air Inc.|2013|    1|  1|   JFK|   509.0|  18|    29|         1109| DTW|JFK-DTW|United States of ...|United States of ...|9788152.0|\n",
            "|665|Endeavor Air Inc.|2013|    1|  1|   JFK|   636.0|  18|    35|         1115| CHS|JFK-CHS|United States of ...|United States of ...|9788152.0|\n",
            "|683|Endeavor Air Inc.|2013|    1|  1|   JFK|  1182.0|  18|    50|         1130| MSY|JFK-MSY|United States of ...|United States of ...|9788152.0|\n",
            "|703|Endeavor Air Inc.|2013|    1|  1|   JFK|   740.0|  19|    10|         1150| ORD|JFK-ORD|United States of ...|United States of ...|9788152.0|\n",
            "|718|Endeavor Air Inc.|2013|    1|  1|   JFK|   427.0|  19|    30|         1170| RDU|JFK-RDU|United States of ...|United States of ...|9788152.0|\n",
            "|725|Endeavor Air Inc.|2013|    1|  1|   JFK|  1391.0|  18|    40|         1120| DFW|JFK-DFW|United States of ...|United States of ...|9788152.0|\n",
            "|730|Endeavor Air Inc.|2013|    1|  1|   JFK|   828.0|  19|    40|         1180| JAX|JFK-JAX|United States of ...|United States of ...|9788152.0|\n",
            "+---+-----------------+----+-----+---+------+--------+----+------+-------------+----+-------+--------------------+--------------------+---------+\n",
            "only showing top 20 rows\n",
            "\n"
          ]
        }
      ]
    },
    {
      "cell_type": "code",
      "source": [
        "df_with_speed.show(5)"
      ],
      "metadata": {
        "colab": {
          "base_uri": "https://localhost:8080/"
        },
        "id": "5o4L_5JAf4sB",
        "outputId": "03ae3f09-0b34-43a3-e587-fac3c654e5e2"
      },
      "execution_count": 280,
      "outputs": [
        {
          "output_type": "stream",
          "name": "stdout",
          "text": [
            "+----+--------------------+----+-----+---+------+--------+----+------+-------------+----+-------+--------------------+--------------------+--------+\n",
            "|  id|        airline_name|year|month|day|origin|distance|hour|minute|minutes_total|dest|  route|      country_origin|        country_dest|sum_dist|\n",
            "+----+--------------------+----+-----+---+------+--------+----+------+-------------+----+-------+--------------------+--------------------+--------+\n",
            "| 123|AirTran Airways C...|2013|    1|  1|   LGA|   762.0|   8|    10|          490| ATL|LGA-ATL|United States of ...|United States of ...|       1|\n",
            "|  78|Alaska Airlines Inc.|2013|    1|  1|   EWR|  2402.0|   7|    25|          445| SEA|EWR-SEA|United States of ...|United States of ...|       1|\n",
            "|  94|American Airlines...|2013|    1|  1|   JFK|  2586.0|   7|    45|          465| SFO|JFK-SFO|United States of ...|United States of ...|       1|\n",
            "|  55|Delta Air Lines Inc.|2013|    1|  1|   JFK|  2586.0|   7|     0|          420| SFO|JFK-SFO|United States of ...|United States of ...|       1|\n",
            "|1650|   Endeavor Air Inc.|2013|    1|  2|   JFK|  1587.0|  19|    30|         1170| SAT|JFK-SAT|United States of ...|United States of ...|       1|\n",
            "+----+--------------------+----+-----+---+------+--------+----+------+-------------+----+-------+--------------------+--------------------+--------+\n",
            "only showing top 5 rows\n",
            "\n"
          ]
        }
      ]
    },
    {
      "cell_type": "code",
      "source": [],
      "metadata": {
        "id": "B6kUSOqpf6Bm"
      },
      "execution_count": null,
      "outputs": []
    }
  ]
}