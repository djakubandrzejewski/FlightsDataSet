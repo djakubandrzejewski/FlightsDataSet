{
  "nbformat": 4,
  "nbformat_minor": 0,
  "metadata": {
    "colab": {
      "provenance": []
    },
    "kernelspec": {
      "name": "python3",
      "display_name": "Python 3"
    },
    "language_info": {
      "name": "python"
    }
  },
  "cells": [
    {
      "cell_type": "code",
      "execution_count": 24,
      "metadata": {
        "id": "4EwIB4YDJOjU"
      },
      "outputs": [],
      "source": [
        "from pyspark.sql import SparkSession\n",
        "from pyspark.sql.functions import col, count"
      ]
    },
    {
      "cell_type": "code",
      "source": [
        "spark = SparkSession.builder.getOrCreate()"
      ],
      "metadata": {
        "id": "zEb26fNEJR4y"
      },
      "execution_count": 5,
      "outputs": []
    },
    {
      "cell_type": "code",
      "source": [
        "df = spark.read.csv(\"/content/flights.csv\", header=True)"
      ],
      "metadata": {
        "id": "ofk3KuCeK4J9"
      },
      "execution_count": 16,
      "outputs": []
    },
    {
      "cell_type": "code",
      "source": [
        "df.show()"
      ],
      "metadata": {
        "colab": {
          "base_uri": "https://localhost:8080/"
        },
        "id": "C2H51zEdTqx1",
        "outputId": "d8b5f747-dea3-455b-def8-d25b5304c685"
      },
      "execution_count": 17,
      "outputs": [
        {
          "output_type": "stream",
          "name": "stdout",
          "text": [
            "+---+----+-----+---+--------+--------------+---------+--------+--------------+---------+-------+------+-------+------+----+--------+--------+----+------+-------------------+--------------------+\n",
            "| id|year|month|day|dep_time|sched_dep_time|dep_delay|arr_time|sched_arr_time|arr_delay|carrier|flight|tailnum|origin|dest|air_time|distance|hour|minute|          time_hour|                name|\n",
            "+---+----+-----+---+--------+--------------+---------+--------+--------------+---------+-------+------+-------+------+----+--------+--------+----+------+-------------------+--------------------+\n",
            "|  0|2013|    1|  1|   517.0|           515|      2.0|   830.0|           819|     11.0|     UA|  1545| N14228|   EWR| IAH|   227.0|    1400|   5|    15|2013-01-01 05:00:00|United Air Lines ...|\n",
            "|  1|2013|    1|  1|   533.0|           529|      4.0|   850.0|           830|     20.0|     UA|  1714| N24211|   LGA| IAH|   227.0|    1416|   5|    29|2013-01-01 05:00:00|United Air Lines ...|\n",
            "|  2|2013|    1|  1|   542.0|           540|      2.0|   923.0|           850|     33.0|     AA|  1141| N619AA|   JFK| MIA|   160.0|    1089|   5|    40|2013-01-01 05:00:00|American Airlines...|\n",
            "|  3|2013|    1|  1|   544.0|           545|     -1.0|  1004.0|          1022|    -18.0|     B6|   725| N804JB|   JFK| BQN|   183.0|    1576|   5|    45|2013-01-01 05:00:00|     JetBlue Airways|\n",
            "|  4|2013|    1|  1|   554.0|           600|     -6.0|   812.0|           837|    -25.0|     DL|   461| N668DN|   LGA| ATL|   116.0|     762|   6|     0|2013-01-01 06:00:00|Delta Air Lines Inc.|\n",
            "|  5|2013|    1|  1|   554.0|           558|     -4.0|   740.0|           728|     12.0|     UA|  1696| N39463|   EWR| ORD|   150.0|     719|   5|    58|2013-01-01 05:00:00|United Air Lines ...|\n",
            "|  6|2013|    1|  1|   555.0|           600|     -5.0|   913.0|           854|     19.0|     B6|   507| N516JB|   EWR| FLL|   158.0|    1065|   6|     0|2013-01-01 06:00:00|     JetBlue Airways|\n",
            "|  7|2013|    1|  1|   557.0|           600|     -3.0|   709.0|           723|    -14.0|     EV|  5708| N829AS|   LGA| IAD|    53.0|     229|   6|     0|2013-01-01 06:00:00|ExpressJet Airlin...|\n",
            "|  8|2013|    1|  1|   557.0|           600|     -3.0|   838.0|           846|     -8.0|     B6|    79| N593JB|   JFK| MCO|   140.0|     944|   6|     0|2013-01-01 06:00:00|     JetBlue Airways|\n",
            "|  9|2013|    1|  1|   558.0|           600|     -2.0|   753.0|           745|      8.0|     AA|   301| N3ALAA|   LGA| ORD|   138.0|     733|   6|     0|2013-01-01 06:00:00|American Airlines...|\n",
            "| 10|2013|    1|  1|   558.0|           600|     -2.0|   849.0|           851|     -2.0|     B6|    49| N793JB|   JFK| PBI|   149.0|    1028|   6|     0|2013-01-01 06:00:00|     JetBlue Airways|\n",
            "| 11|2013|    1|  1|   558.0|           600|     -2.0|   853.0|           856|     -3.0|     B6|    71| N657JB|   JFK| TPA|   158.0|    1005|   6|     0|2013-01-01 06:00:00|     JetBlue Airways|\n",
            "| 12|2013|    1|  1|   558.0|           600|     -2.0|   924.0|           917|      7.0|     UA|   194| N29129|   JFK| LAX|   345.0|    2475|   6|     0|2013-01-01 06:00:00|United Air Lines ...|\n",
            "| 13|2013|    1|  1|   558.0|           600|     -2.0|   923.0|           937|    -14.0|     UA|  1124| N53441|   EWR| SFO|   361.0|    2565|   6|     0|2013-01-01 06:00:00|United Air Lines ...|\n",
            "| 14|2013|    1|  1|   559.0|           600|     -1.0|   941.0|           910|     31.0|     AA|   707| N3DUAA|   LGA| DFW|   257.0|    1389|   6|     0|2013-01-01 06:00:00|American Airlines...|\n",
            "| 15|2013|    1|  1|   559.0|           559|      0.0|   702.0|           706|     -4.0|     B6|  1806| N708JB|   JFK| BOS|    44.0|     187|   5|    59|2013-01-01 05:00:00|     JetBlue Airways|\n",
            "| 16|2013|    1|  1|   559.0|           600|     -1.0|   854.0|           902|     -8.0|     UA|  1187| N76515|   EWR| LAS|   337.0|    2227|   6|     0|2013-01-01 06:00:00|United Air Lines ...|\n",
            "| 17|2013|    1|  1|   600.0|           600|      0.0|   851.0|           858|     -7.0|     B6|   371| N595JB|   LGA| FLL|   152.0|    1076|   6|     0|2013-01-01 06:00:00|     JetBlue Airways|\n",
            "| 18|2013|    1|  1|   600.0|           600|      0.0|   837.0|           825|     12.0|     MQ|  4650| N542MQ|   LGA| ATL|   134.0|     762|   6|     0|2013-01-01 06:00:00|           Envoy Air|\n",
            "| 19|2013|    1|  1|   601.0|           600|      1.0|   844.0|           850|     -6.0|     B6|   343| N644JB|   EWR| PBI|   147.0|    1023|   6|     0|2013-01-01 06:00:00|     JetBlue Airways|\n",
            "+---+----+-----+---+--------+--------------+---------+--------+--------------+---------+-------+------+-------+------+----+--------+--------+----+------+-------------------+--------------------+\n",
            "only showing top 20 rows\n",
            "\n"
          ]
        }
      ]
    },
    {
      "cell_type": "code",
      "source": [
        "df = df[['id','name','year','month','day','origin','distance','hour','minute']]"
      ],
      "metadata": {
        "id": "Qcm393zDSJKH"
      },
      "execution_count": 18,
      "outputs": []
    },
    {
      "cell_type": "code",
      "source": [
        "df.show(truncate=False)"
      ],
      "metadata": {
        "colab": {
          "base_uri": "https://localhost:8080/"
        },
        "id": "kL8_W8ufSMTX",
        "outputId": "c6eaec0d-f7ea-4a12-92cc-83f52ce1e890"
      },
      "execution_count": 20,
      "outputs": [
        {
          "output_type": "stream",
          "name": "stdout",
          "text": [
            "+---+------------------------+----+-----+---+------+--------+----+------+\n",
            "|id |name                    |year|month|day|origin|distance|hour|minute|\n",
            "+---+------------------------+----+-----+---+------+--------+----+------+\n",
            "|0  |United Air Lines Inc.   |2013|1    |1  |EWR   |1400    |5   |15    |\n",
            "|1  |United Air Lines Inc.   |2013|1    |1  |LGA   |1416    |5   |29    |\n",
            "|2  |American Airlines Inc.  |2013|1    |1  |JFK   |1089    |5   |40    |\n",
            "|3  |JetBlue Airways         |2013|1    |1  |JFK   |1576    |5   |45    |\n",
            "|4  |Delta Air Lines Inc.    |2013|1    |1  |LGA   |762     |6   |0     |\n",
            "|5  |United Air Lines Inc.   |2013|1    |1  |EWR   |719     |5   |58    |\n",
            "|6  |JetBlue Airways         |2013|1    |1  |EWR   |1065    |6   |0     |\n",
            "|7  |ExpressJet Airlines Inc.|2013|1    |1  |LGA   |229     |6   |0     |\n",
            "|8  |JetBlue Airways         |2013|1    |1  |JFK   |944     |6   |0     |\n",
            "|9  |American Airlines Inc.  |2013|1    |1  |LGA   |733     |6   |0     |\n",
            "|10 |JetBlue Airways         |2013|1    |1  |JFK   |1028    |6   |0     |\n",
            "|11 |JetBlue Airways         |2013|1    |1  |JFK   |1005    |6   |0     |\n",
            "|12 |United Air Lines Inc.   |2013|1    |1  |JFK   |2475    |6   |0     |\n",
            "|13 |United Air Lines Inc.   |2013|1    |1  |EWR   |2565    |6   |0     |\n",
            "|14 |American Airlines Inc.  |2013|1    |1  |LGA   |1389    |6   |0     |\n",
            "|15 |JetBlue Airways         |2013|1    |1  |JFK   |187     |5   |59    |\n",
            "|16 |United Air Lines Inc.   |2013|1    |1  |EWR   |2227    |6   |0     |\n",
            "|17 |JetBlue Airways         |2013|1    |1  |LGA   |1076    |6   |0     |\n",
            "|18 |Envoy Air               |2013|1    |1  |LGA   |762     |6   |0     |\n",
            "|19 |JetBlue Airways         |2013|1    |1  |EWR   |1023    |6   |0     |\n",
            "+---+------------------------+----+-----+---+------+--------+----+------+\n",
            "only showing top 20 rows\n",
            "\n"
          ]
        }
      ]
    },
    {
      "cell_type": "markdown",
      "source": [
        "# Let's find the longest distance the plane travels."
      ],
      "metadata": {
        "id": "rckmYtrDT96D"
      }
    },
    {
      "cell_type": "code",
      "source": [
        "from pyspark.sql.functions import col, count\n",
        "\n",
        "df.groupBy(\n",
        "    col(\"name\").alias(\"airline\")  # Alias działa tylko w select, tutaj go usuń\n",
        ").agg(\n",
        "    count(\"*\").alias(\"count_of_flights_by_airline\")  # Zmień spacje na podkreślenia\n",
        ").orderBy(\n",
        "    col(\"count_of_flights_by_airline\").desc() # Poprawiona nazwa kolumny\n",
        ").show(truncate=False)"
      ],
      "metadata": {
        "colab": {
          "base_uri": "https://localhost:8080/"
        },
        "id": "iaM7-N3ySTPr",
        "outputId": "96035106-d8ef-492c-ea5f-0e936f2c4685"
      },
      "execution_count": 33,
      "outputs": [
        {
          "output_type": "stream",
          "name": "stdout",
          "text": [
            "+---------------------------+---------------------------+\n",
            "|airline                    |count_of_flights_by_airline|\n",
            "+---------------------------+---------------------------+\n",
            "|United Air Lines Inc.      |58665                      |\n",
            "|JetBlue Airways            |54635                      |\n",
            "|ExpressJet Airlines Inc.   |54173                      |\n",
            "|Delta Air Lines Inc.       |48110                      |\n",
            "|American Airlines Inc.     |32729                      |\n",
            "|Envoy Air                  |26397                      |\n",
            "|US Airways Inc.            |20536                      |\n",
            "|Endeavor Air Inc.          |18460                      |\n",
            "|Southwest Airlines Co.     |12275                      |\n",
            "|Virgin America             |5162                       |\n",
            "|AirTran Airways Corporation|3260                       |\n",
            "|Alaska Airlines Inc.       |714                        |\n",
            "|Frontier Airlines Inc.     |685                        |\n",
            "|Mesa Airlines Inc.         |601                        |\n",
            "|Hawaiian Airlines Inc.     |342                        |\n",
            "|SkyWest Airlines Inc.      |32                         |\n",
            "+---------------------------+---------------------------+\n",
            "\n"
          ]
        }
      ]
    }
  ]
}