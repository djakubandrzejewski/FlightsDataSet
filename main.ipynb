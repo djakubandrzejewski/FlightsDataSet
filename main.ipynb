{
  "nbformat": 4,
  "nbformat_minor": 0,
  "metadata": {
    "colab": {
      "provenance": []
    },
    "kernelspec": {
      "name": "python3",
      "display_name": "Python 3"
    },
    "language_info": {
      "name": "python"
    }
  },
  "cells": [
    {
      "cell_type": "code",
      "execution_count": 113,
      "metadata": {
        "id": "4EwIB4YDJOjU"
      },
      "outputs": [],
      "source": [
        "from pyspark.sql import SparkSession\n",
        "from pyspark.sql.functions import col, count, coalesce, concat, lit\n",
        "from pyspark.sql import functions as F"
      ]
    },
    {
      "cell_type": "code",
      "source": [
        "from pyspark.sql.types import StructType, StructField, IntegerType, StringType, DoubleType, FloatType"
      ],
      "metadata": {
        "id": "5dp8WBqYzHL7"
      },
      "execution_count": 114,
      "outputs": []
    },
    {
      "cell_type": "code",
      "source": [
        "spark = SparkSession.builder.getOrCreate()"
      ],
      "metadata": {
        "id": "zEb26fNEJR4y"
      },
      "execution_count": 115,
      "outputs": []
    },
    {
      "cell_type": "code",
      "source": [
        "schema = StructType([\n",
        "    StructField(\"id\", StringType(), True),\n",
        "    StructField(\"year\", IntegerType(), True),\n",
        "    StructField(\"month\", StringType(), True),\n",
        "    StructField(\"day\", StringType(), True),\n",
        "    StructField(\"dep_time\", FloatType(), True),\n",
        "    StructField(\"sched_dep_time\", FloatType(), True),\n",
        "    StructField(\"dep_delay\", FloatType(), True),\n",
        "    StructField(\"arr_time\", FloatType(), True),\n",
        "    StructField(\"sched_arr_time\", FloatType(), True),\n",
        "    StructField(\"arr_delay\", FloatType(), True),\n",
        "    StructField(\"carrier\", StringType(), True),\n",
        "    StructField(\"flight\", StringType(), True),\n",
        "    StructField(\"tailnum\", StringType(), True),\n",
        "    StructField(\"origin\", StringType(), True),\n",
        "    StructField(\"dest\", StringType(), True),\n",
        "    StructField(\"air_time\", FloatType(), True),\n",
        "    StructField(\"distance\", FloatType(), True),\n",
        "    StructField(\"hour\", IntegerType(), True),\n",
        "    StructField(\"minute\", IntegerType(), True),\n",
        "    StructField(\"time_hour\", StringType(), True),\n",
        "    StructField(\"name\", StringType(), True)\n",
        "])"
      ],
      "metadata": {
        "id": "wlSA4sOW1wZC"
      },
      "execution_count": 116,
      "outputs": []
    },
    {
      "cell_type": "code",
      "source": [
        "df = spark.read.csv(\"/content/flights.csv\", header=True, schema=schema)"
      ],
      "metadata": {
        "id": "ofk3KuCeK4J9"
      },
      "execution_count": 117,
      "outputs": []
    },
    {
      "cell_type": "code",
      "source": [
        "df.printSchema()"
      ],
      "metadata": {
        "colab": {
          "base_uri": "https://localhost:8080/"
        },
        "id": "Qnf4gJja1d5-",
        "outputId": "b7080f5b-ffde-404a-b663-790d774c7bed"
      },
      "execution_count": 118,
      "outputs": [
        {
          "output_type": "stream",
          "name": "stdout",
          "text": [
            "root\n",
            " |-- id: string (nullable = true)\n",
            " |-- year: integer (nullable = true)\n",
            " |-- month: string (nullable = true)\n",
            " |-- day: string (nullable = true)\n",
            " |-- dep_time: float (nullable = true)\n",
            " |-- sched_dep_time: float (nullable = true)\n",
            " |-- dep_delay: float (nullable = true)\n",
            " |-- arr_time: float (nullable = true)\n",
            " |-- sched_arr_time: float (nullable = true)\n",
            " |-- arr_delay: float (nullable = true)\n",
            " |-- carrier: string (nullable = true)\n",
            " |-- flight: string (nullable = true)\n",
            " |-- tailnum: string (nullable = true)\n",
            " |-- origin: string (nullable = true)\n",
            " |-- dest: string (nullable = true)\n",
            " |-- air_time: float (nullable = true)\n",
            " |-- distance: float (nullable = true)\n",
            " |-- hour: integer (nullable = true)\n",
            " |-- minute: integer (nullable = true)\n",
            " |-- time_hour: string (nullable = true)\n",
            " |-- name: string (nullable = true)\n",
            "\n"
          ]
        }
      ]
    },
    {
      "cell_type": "code",
      "source": [
        "df.show()"
      ],
      "metadata": {
        "colab": {
          "base_uri": "https://localhost:8080/"
        },
        "id": "C2H51zEdTqx1",
        "outputId": "26602d2a-a7bd-45f9-843b-c607753a60cb"
      },
      "execution_count": 119,
      "outputs": [
        {
          "output_type": "stream",
          "name": "stdout",
          "text": [
            "+---+----+-----+---+--------+--------------+---------+--------+--------------+---------+-------+------+-------+------+----+--------+--------+----+------+-------------------+--------------------+\n",
            "| id|year|month|day|dep_time|sched_dep_time|dep_delay|arr_time|sched_arr_time|arr_delay|carrier|flight|tailnum|origin|dest|air_time|distance|hour|minute|          time_hour|                name|\n",
            "+---+----+-----+---+--------+--------------+---------+--------+--------------+---------+-------+------+-------+------+----+--------+--------+----+------+-------------------+--------------------+\n",
            "|  0|2013|    1|  1|   517.0|         515.0|      2.0|   830.0|         819.0|     11.0|     UA|  1545| N14228|   EWR| IAH|   227.0|  1400.0|   5|    15|2013-01-01 05:00:00|United Air Lines ...|\n",
            "|  1|2013|    1|  1|   533.0|         529.0|      4.0|   850.0|         830.0|     20.0|     UA|  1714| N24211|   LGA| IAH|   227.0|  1416.0|   5|    29|2013-01-01 05:00:00|United Air Lines ...|\n",
            "|  2|2013|    1|  1|   542.0|         540.0|      2.0|   923.0|         850.0|     33.0|     AA|  1141| N619AA|   JFK| MIA|   160.0|  1089.0|   5|    40|2013-01-01 05:00:00|American Airlines...|\n",
            "|  3|2013|    1|  1|   544.0|         545.0|     -1.0|  1004.0|        1022.0|    -18.0|     B6|   725| N804JB|   JFK| BQN|   183.0|  1576.0|   5|    45|2013-01-01 05:00:00|     JetBlue Airways|\n",
            "|  4|2013|    1|  1|   554.0|         600.0|     -6.0|   812.0|         837.0|    -25.0|     DL|   461| N668DN|   LGA| ATL|   116.0|   762.0|   6|     0|2013-01-01 06:00:00|Delta Air Lines Inc.|\n",
            "|  5|2013|    1|  1|   554.0|         558.0|     -4.0|   740.0|         728.0|     12.0|     UA|  1696| N39463|   EWR| ORD|   150.0|   719.0|   5|    58|2013-01-01 05:00:00|United Air Lines ...|\n",
            "|  6|2013|    1|  1|   555.0|         600.0|     -5.0|   913.0|         854.0|     19.0|     B6|   507| N516JB|   EWR| FLL|   158.0|  1065.0|   6|     0|2013-01-01 06:00:00|     JetBlue Airways|\n",
            "|  7|2013|    1|  1|   557.0|         600.0|     -3.0|   709.0|         723.0|    -14.0|     EV|  5708| N829AS|   LGA| IAD|    53.0|   229.0|   6|     0|2013-01-01 06:00:00|ExpressJet Airlin...|\n",
            "|  8|2013|    1|  1|   557.0|         600.0|     -3.0|   838.0|         846.0|     -8.0|     B6|    79| N593JB|   JFK| MCO|   140.0|   944.0|   6|     0|2013-01-01 06:00:00|     JetBlue Airways|\n",
            "|  9|2013|    1|  1|   558.0|         600.0|     -2.0|   753.0|         745.0|      8.0|     AA|   301| N3ALAA|   LGA| ORD|   138.0|   733.0|   6|     0|2013-01-01 06:00:00|American Airlines...|\n",
            "| 10|2013|    1|  1|   558.0|         600.0|     -2.0|   849.0|         851.0|     -2.0|     B6|    49| N793JB|   JFK| PBI|   149.0|  1028.0|   6|     0|2013-01-01 06:00:00|     JetBlue Airways|\n",
            "| 11|2013|    1|  1|   558.0|         600.0|     -2.0|   853.0|         856.0|     -3.0|     B6|    71| N657JB|   JFK| TPA|   158.0|  1005.0|   6|     0|2013-01-01 06:00:00|     JetBlue Airways|\n",
            "| 12|2013|    1|  1|   558.0|         600.0|     -2.0|   924.0|         917.0|      7.0|     UA|   194| N29129|   JFK| LAX|   345.0|  2475.0|   6|     0|2013-01-01 06:00:00|United Air Lines ...|\n",
            "| 13|2013|    1|  1|   558.0|         600.0|     -2.0|   923.0|         937.0|    -14.0|     UA|  1124| N53441|   EWR| SFO|   361.0|  2565.0|   6|     0|2013-01-01 06:00:00|United Air Lines ...|\n",
            "| 14|2013|    1|  1|   559.0|         600.0|     -1.0|   941.0|         910.0|     31.0|     AA|   707| N3DUAA|   LGA| DFW|   257.0|  1389.0|   6|     0|2013-01-01 06:00:00|American Airlines...|\n",
            "| 15|2013|    1|  1|   559.0|         559.0|      0.0|   702.0|         706.0|     -4.0|     B6|  1806| N708JB|   JFK| BOS|    44.0|   187.0|   5|    59|2013-01-01 05:00:00|     JetBlue Airways|\n",
            "| 16|2013|    1|  1|   559.0|         600.0|     -1.0|   854.0|         902.0|     -8.0|     UA|  1187| N76515|   EWR| LAS|   337.0|  2227.0|   6|     0|2013-01-01 06:00:00|United Air Lines ...|\n",
            "| 17|2013|    1|  1|   600.0|         600.0|      0.0|   851.0|         858.0|     -7.0|     B6|   371| N595JB|   LGA| FLL|   152.0|  1076.0|   6|     0|2013-01-01 06:00:00|     JetBlue Airways|\n",
            "| 18|2013|    1|  1|   600.0|         600.0|      0.0|   837.0|         825.0|     12.0|     MQ|  4650| N542MQ|   LGA| ATL|   134.0|   762.0|   6|     0|2013-01-01 06:00:00|           Envoy Air|\n",
            "| 19|2013|    1|  1|   601.0|         600.0|      1.0|   844.0|         850.0|     -6.0|     B6|   343| N644JB|   EWR| PBI|   147.0|  1023.0|   6|     0|2013-01-01 06:00:00|     JetBlue Airways|\n",
            "+---+----+-----+---+--------+--------------+---------+--------+--------------+---------+-------+------+-------+------+----+--------+--------+----+------+-------------------+--------------------+\n",
            "only showing top 20 rows\n",
            "\n"
          ]
        }
      ]
    },
    {
      "cell_type": "code",
      "source": [
        "df = df[['id','name','year','month','day','origin','distance','hour','minute']]"
      ],
      "metadata": {
        "id": "Qcm393zDSJKH"
      },
      "execution_count": 120,
      "outputs": []
    },
    {
      "cell_type": "code",
      "source": [
        "df.printSchema()"
      ],
      "metadata": {
        "colab": {
          "base_uri": "https://localhost:8080/"
        },
        "id": "zNyYS_6FzwYY",
        "outputId": "fbe1a5e4-5dad-4515-abb4-04bc4aae9bd5"
      },
      "execution_count": 121,
      "outputs": [
        {
          "output_type": "stream",
          "name": "stdout",
          "text": [
            "root\n",
            " |-- id: string (nullable = true)\n",
            " |-- name: string (nullable = true)\n",
            " |-- year: integer (nullable = true)\n",
            " |-- month: string (nullable = true)\n",
            " |-- day: string (nullable = true)\n",
            " |-- origin: string (nullable = true)\n",
            " |-- distance: float (nullable = true)\n",
            " |-- hour: integer (nullable = true)\n",
            " |-- minute: integer (nullable = true)\n",
            "\n"
          ]
        }
      ]
    },
    {
      "cell_type": "code",
      "source": [
        "df.show(truncate=False)"
      ],
      "metadata": {
        "colab": {
          "base_uri": "https://localhost:8080/"
        },
        "id": "kL8_W8ufSMTX",
        "outputId": "c3e6386d-812f-4c22-eaf1-1d1e28da67b2"
      },
      "execution_count": 122,
      "outputs": [
        {
          "output_type": "stream",
          "name": "stdout",
          "text": [
            "+---+------------------------+----+-----+---+------+--------+----+------+\n",
            "|id |name                    |year|month|day|origin|distance|hour|minute|\n",
            "+---+------------------------+----+-----+---+------+--------+----+------+\n",
            "|0  |United Air Lines Inc.   |2013|1    |1  |EWR   |1400.0  |5   |15    |\n",
            "|1  |United Air Lines Inc.   |2013|1    |1  |LGA   |1416.0  |5   |29    |\n",
            "|2  |American Airlines Inc.  |2013|1    |1  |JFK   |1089.0  |5   |40    |\n",
            "|3  |JetBlue Airways         |2013|1    |1  |JFK   |1576.0  |5   |45    |\n",
            "|4  |Delta Air Lines Inc.    |2013|1    |1  |LGA   |762.0   |6   |0     |\n",
            "|5  |United Air Lines Inc.   |2013|1    |1  |EWR   |719.0   |5   |58    |\n",
            "|6  |JetBlue Airways         |2013|1    |1  |EWR   |1065.0  |6   |0     |\n",
            "|7  |ExpressJet Airlines Inc.|2013|1    |1  |LGA   |229.0   |6   |0     |\n",
            "|8  |JetBlue Airways         |2013|1    |1  |JFK   |944.0   |6   |0     |\n",
            "|9  |American Airlines Inc.  |2013|1    |1  |LGA   |733.0   |6   |0     |\n",
            "|10 |JetBlue Airways         |2013|1    |1  |JFK   |1028.0  |6   |0     |\n",
            "|11 |JetBlue Airways         |2013|1    |1  |JFK   |1005.0  |6   |0     |\n",
            "|12 |United Air Lines Inc.   |2013|1    |1  |JFK   |2475.0  |6   |0     |\n",
            "|13 |United Air Lines Inc.   |2013|1    |1  |EWR   |2565.0  |6   |0     |\n",
            "|14 |American Airlines Inc.  |2013|1    |1  |LGA   |1389.0  |6   |0     |\n",
            "|15 |JetBlue Airways         |2013|1    |1  |JFK   |187.0   |5   |59    |\n",
            "|16 |United Air Lines Inc.   |2013|1    |1  |EWR   |2227.0  |6   |0     |\n",
            "|17 |JetBlue Airways         |2013|1    |1  |LGA   |1076.0  |6   |0     |\n",
            "|18 |Envoy Air               |2013|1    |1  |LGA   |762.0   |6   |0     |\n",
            "|19 |JetBlue Airways         |2013|1    |1  |EWR   |1023.0  |6   |0     |\n",
            "+---+------------------------+----+-----+---+------+--------+----+------+\n",
            "only showing top 20 rows\n",
            "\n"
          ]
        }
      ]
    },
    {
      "cell_type": "markdown",
      "source": [
        "# Let's find the airline with the most flights."
      ],
      "metadata": {
        "id": "rckmYtrDT96D"
      }
    },
    {
      "cell_type": "code",
      "source": [
        "airline_with_the_most_flights = df.groupBy(\n",
        "    col(\"name\").alias(\"airline\")\n",
        ").agg(\n",
        "    count(\"*\").alias(\"count_of_flights_by_airline\")\n",
        ").orderBy(\n",
        "    col(\"count_of_flights_by_airline\").desc()\n",
        ")"
      ],
      "metadata": {
        "id": "iaM7-N3ySTPr"
      },
      "execution_count": 124,
      "outputs": []
    },
    {
      "cell_type": "markdown",
      "source": [
        "# Let's find the longest distance the planes travels."
      ],
      "metadata": {
        "id": "b4kRdgmj6PB0"
      }
    },
    {
      "cell_type": "code",
      "source": [
        "longest_distance = df.groupBy(\n",
        "    col(\"name\").alias(\"AirLine\")\n",
        ").agg(\n",
        "    max(col(\"distance\")).alias(\"longest_distance\")\n",
        ").orderBy(col(\"longest_distance\").desc())"
      ],
      "metadata": {
        "id": "oxJbT2uE2BHL"
      },
      "execution_count": 125,
      "outputs": []
    },
    {
      "cell_type": "code",
      "source": [
        "df = df.withColumn(\n",
        "    \"minutes_total\",\n",
        "    (col(\"hour\").cast(\"int\") * 60) + col(\"minute\").cast(\"int\")\n",
        ")"
      ],
      "metadata": {
        "id": "c_cVfOeg2Mp6"
      },
      "execution_count": 126,
      "outputs": []
    },
    {
      "cell_type": "markdown",
      "source": [
        "# Let's find the flight that take the most time."
      ],
      "metadata": {
        "id": "Y71nzgmD7lpk"
      }
    },
    {
      "cell_type": "code",
      "source": [
        "df.show()"
      ],
      "metadata": {
        "colab": {
          "base_uri": "https://localhost:8080/"
        },
        "id": "25QlxPLx7sbJ",
        "outputId": "280e1af7-87f4-4459-fe6b-220ada707df3"
      },
      "execution_count": 127,
      "outputs": [
        {
          "output_type": "stream",
          "name": "stdout",
          "text": [
            "+---+--------------------+----+-----+---+------+--------+----+------+-------------+\n",
            "| id|                name|year|month|day|origin|distance|hour|minute|minutes_total|\n",
            "+---+--------------------+----+-----+---+------+--------+----+------+-------------+\n",
            "|  0|United Air Lines ...|2013|    1|  1|   EWR|  1400.0|   5|    15|          315|\n",
            "|  1|United Air Lines ...|2013|    1|  1|   LGA|  1416.0|   5|    29|          329|\n",
            "|  2|American Airlines...|2013|    1|  1|   JFK|  1089.0|   5|    40|          340|\n",
            "|  3|     JetBlue Airways|2013|    1|  1|   JFK|  1576.0|   5|    45|          345|\n",
            "|  4|Delta Air Lines Inc.|2013|    1|  1|   LGA|   762.0|   6|     0|          360|\n",
            "|  5|United Air Lines ...|2013|    1|  1|   EWR|   719.0|   5|    58|          358|\n",
            "|  6|     JetBlue Airways|2013|    1|  1|   EWR|  1065.0|   6|     0|          360|\n",
            "|  7|ExpressJet Airlin...|2013|    1|  1|   LGA|   229.0|   6|     0|          360|\n",
            "|  8|     JetBlue Airways|2013|    1|  1|   JFK|   944.0|   6|     0|          360|\n",
            "|  9|American Airlines...|2013|    1|  1|   LGA|   733.0|   6|     0|          360|\n",
            "| 10|     JetBlue Airways|2013|    1|  1|   JFK|  1028.0|   6|     0|          360|\n",
            "| 11|     JetBlue Airways|2013|    1|  1|   JFK|  1005.0|   6|     0|          360|\n",
            "| 12|United Air Lines ...|2013|    1|  1|   JFK|  2475.0|   6|     0|          360|\n",
            "| 13|United Air Lines ...|2013|    1|  1|   EWR|  2565.0|   6|     0|          360|\n",
            "| 14|American Airlines...|2013|    1|  1|   LGA|  1389.0|   6|     0|          360|\n",
            "| 15|     JetBlue Airways|2013|    1|  1|   JFK|   187.0|   5|    59|          359|\n",
            "| 16|United Air Lines ...|2013|    1|  1|   EWR|  2227.0|   6|     0|          360|\n",
            "| 17|     JetBlue Airways|2013|    1|  1|   LGA|  1076.0|   6|     0|          360|\n",
            "| 18|           Envoy Air|2013|    1|  1|   LGA|   762.0|   6|     0|          360|\n",
            "| 19|     JetBlue Airways|2013|    1|  1|   EWR|  1023.0|   6|     0|          360|\n",
            "+---+--------------------+----+-----+---+------+--------+----+------+-------------+\n",
            "only showing top 20 rows\n",
            "\n"
          ]
        }
      ]
    },
    {
      "cell_type": "markdown",
      "source": [
        "# To find the flight route that takes the most time we need to add a new column (dest)."
      ],
      "metadata": {
        "id": "WnLoRnIZ8Y7l"
      }
    },
    {
      "cell_type": "code",
      "source": [
        "df2 = spark.read.csv(\"/content/flights.csv\", header=True, schema=schema)"
      ],
      "metadata": {
        "id": "wYPwyhVs7tW-"
      },
      "execution_count": 128,
      "outputs": []
    },
    {
      "cell_type": "code",
      "source": [
        "df2 = df2.select(col(\"id\"),col(\"dest\"))"
      ],
      "metadata": {
        "id": "WbWXRfRF9nkG"
      },
      "execution_count": 129,
      "outputs": []
    },
    {
      "cell_type": "code",
      "source": [
        "df2.show()"
      ],
      "metadata": {
        "colab": {
          "base_uri": "https://localhost:8080/"
        },
        "id": "Om_veULe-GeQ",
        "outputId": "b361a447-7eb9-4fc4-e8b2-4db6b07359e6"
      },
      "execution_count": 130,
      "outputs": [
        {
          "output_type": "stream",
          "name": "stdout",
          "text": [
            "+---+----+\n",
            "| id|dest|\n",
            "+---+----+\n",
            "|  0| IAH|\n",
            "|  1| IAH|\n",
            "|  2| MIA|\n",
            "|  3| BQN|\n",
            "|  4| ATL|\n",
            "|  5| ORD|\n",
            "|  6| FLL|\n",
            "|  7| IAD|\n",
            "|  8| MCO|\n",
            "|  9| ORD|\n",
            "| 10| PBI|\n",
            "| 11| TPA|\n",
            "| 12| LAX|\n",
            "| 13| SFO|\n",
            "| 14| DFW|\n",
            "| 15| BOS|\n",
            "| 16| LAS|\n",
            "| 17| FLL|\n",
            "| 18| ATL|\n",
            "| 19| PBI|\n",
            "+---+----+\n",
            "only showing top 20 rows\n",
            "\n"
          ]
        }
      ]
    },
    {
      "cell_type": "code",
      "source": [
        "df = df.join(df2, on=\"id\", how=\"inner\")"
      ],
      "metadata": {
        "id": "YvupN8n081Pk"
      },
      "execution_count": 131,
      "outputs": []
    },
    {
      "cell_type": "code",
      "source": [
        "df.show()"
      ],
      "metadata": {
        "colab": {
          "base_uri": "https://localhost:8080/"
        },
        "id": "qhYonIkp9Gf1",
        "outputId": "553ae649-29b8-4e8a-a7af-2226d28c644f"
      },
      "execution_count": 132,
      "outputs": [
        {
          "output_type": "stream",
          "name": "stdout",
          "text": [
            "+---+--------------------+----+-----+---+------+--------+----+------+-------------+----+\n",
            "| id|                name|year|month|day|origin|distance|hour|minute|minutes_total|dest|\n",
            "+---+--------------------+----+-----+---+------+--------+----+------+-------------+----+\n",
            "|  0|United Air Lines ...|2013|    1|  1|   EWR|  1400.0|   5|    15|          315| IAH|\n",
            "|  1|United Air Lines ...|2013|    1|  1|   LGA|  1416.0|   5|    29|          329| IAH|\n",
            "|  2|American Airlines...|2013|    1|  1|   JFK|  1089.0|   5|    40|          340| MIA|\n",
            "|  3|     JetBlue Airways|2013|    1|  1|   JFK|  1576.0|   5|    45|          345| BQN|\n",
            "|  4|Delta Air Lines Inc.|2013|    1|  1|   LGA|   762.0|   6|     0|          360| ATL|\n",
            "|  5|United Air Lines ...|2013|    1|  1|   EWR|   719.0|   5|    58|          358| ORD|\n",
            "|  6|     JetBlue Airways|2013|    1|  1|   EWR|  1065.0|   6|     0|          360| FLL|\n",
            "|  7|ExpressJet Airlin...|2013|    1|  1|   LGA|   229.0|   6|     0|          360| IAD|\n",
            "|  8|     JetBlue Airways|2013|    1|  1|   JFK|   944.0|   6|     0|          360| MCO|\n",
            "|  9|American Airlines...|2013|    1|  1|   LGA|   733.0|   6|     0|          360| ORD|\n",
            "| 10|     JetBlue Airways|2013|    1|  1|   JFK|  1028.0|   6|     0|          360| PBI|\n",
            "| 11|     JetBlue Airways|2013|    1|  1|   JFK|  1005.0|   6|     0|          360| TPA|\n",
            "| 12|United Air Lines ...|2013|    1|  1|   JFK|  2475.0|   6|     0|          360| LAX|\n",
            "| 13|United Air Lines ...|2013|    1|  1|   EWR|  2565.0|   6|     0|          360| SFO|\n",
            "| 14|American Airlines...|2013|    1|  1|   LGA|  1389.0|   6|     0|          360| DFW|\n",
            "| 15|     JetBlue Airways|2013|    1|  1|   JFK|   187.0|   5|    59|          359| BOS|\n",
            "| 16|United Air Lines ...|2013|    1|  1|   EWR|  2227.0|   6|     0|          360| LAS|\n",
            "| 17|     JetBlue Airways|2013|    1|  1|   LGA|  1076.0|   6|     0|          360| FLL|\n",
            "| 18|           Envoy Air|2013|    1|  1|   LGA|   762.0|   6|     0|          360| ATL|\n",
            "| 19|     JetBlue Airways|2013|    1|  1|   EWR|  1023.0|   6|     0|          360| PBI|\n",
            "+---+--------------------+----+-----+---+------+--------+----+------+-------------+----+\n",
            "only showing top 20 rows\n",
            "\n"
          ]
        }
      ]
    }
  ]
}