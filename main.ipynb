{
  "nbformat": 4,
  "nbformat_minor": 0,
  "metadata": {
    "colab": {
      "provenance": []
    },
    "kernelspec": {
      "name": "python3",
      "display_name": "Python 3"
    },
    "language_info": {
      "name": "python"
    }
  },
  "cells": [
    {
      "cell_type": "code",
      "execution_count": 41,
      "metadata": {
        "id": "4EwIB4YDJOjU"
      },
      "outputs": [],
      "source": [
        "from pyspark.sql import SparkSession\n",
        "from pyspark.sql.functions import col, count\n",
        "from pyspark.sql import functions as F"
      ]
    },
    {
      "cell_type": "code",
      "source": [
        "from pyspark.sql.types import StructType, StructField, IntegerType, StringType, DoubleType, FloatType"
      ],
      "metadata": {
        "id": "5dp8WBqYzHL7"
      },
      "execution_count": 65,
      "outputs": []
    },
    {
      "cell_type": "code",
      "source": [
        "spark = SparkSession.builder.getOrCreate()"
      ],
      "metadata": {
        "id": "zEb26fNEJR4y"
      },
      "execution_count": 5,
      "outputs": []
    },
    {
      "cell_type": "code",
      "source": [
        "schema = StructType([\n",
        "    StructField(\"id\", StringType(), True),\n",
        "    StructField(\"year\", IntegerType(), True),\n",
        "    StructField(\"month\", StringType(), True),\n",
        "    StructField(\"day\", StringType(), True),\n",
        "    StructField(\"dep_time\", FloatType(), True),\n",
        "    StructField(\"sched_dep_time\", FloatType(), True),\n",
        "    StructField(\"dep_delay\", FloatType(), True),\n",
        "    StructField(\"arr_time\", FloatType(), True),\n",
        "    StructField(\"sched_arr_time\", FloatType(), True),\n",
        "    StructField(\"arr_delay\", FloatType(), True),\n",
        "    StructField(\"carrier\", StringType(), True),\n",
        "    StructField(\"flight\", StringType(), True),\n",
        "    StructField(\"tailnum\", StringType(), True),\n",
        "    StructField(\"origin\", StringType(), True),\n",
        "    StructField(\"dest\", StringType(), True),\n",
        "    StructField(\"air_time\", FloatType(), True),\n",
        "    StructField(\"distance\", FloatType(), True),\n",
        "    StructField(\"hour\", IntegerType(), True),\n",
        "    StructField(\"minute\", IntegerType(), True),\n",
        "    StructField(\"time_hour\", StringType(), True),\n",
        "    StructField(\"name\", StringType(), True)\n",
        "])"
      ],
      "metadata": {
        "id": "wlSA4sOW1wZC"
      },
      "execution_count": 66,
      "outputs": []
    },
    {
      "cell_type": "code",
      "source": [
        "df = spark.read.csv(\"/content/flights.csv\", header=True, schema=schema)"
      ],
      "metadata": {
        "id": "ofk3KuCeK4J9"
      },
      "execution_count": 67,
      "outputs": []
    },
    {
      "cell_type": "code",
      "source": [
        "df.printSchema()"
      ],
      "metadata": {
        "colab": {
          "base_uri": "https://localhost:8080/"
        },
        "id": "Qnf4gJja1d5-",
        "outputId": "18134549-d8a9-4ab0-8f66-35945991f86c"
      },
      "execution_count": 68,
      "outputs": [
        {
          "output_type": "stream",
          "name": "stdout",
          "text": [
            "root\n",
            " |-- id: string (nullable = true)\n",
            " |-- year: integer (nullable = true)\n",
            " |-- month: string (nullable = true)\n",
            " |-- day: string (nullable = true)\n",
            " |-- dep_time: float (nullable = true)\n",
            " |-- sched_dep_time: float (nullable = true)\n",
            " |-- dep_delay: float (nullable = true)\n",
            " |-- arr_time: float (nullable = true)\n",
            " |-- sched_arr_time: float (nullable = true)\n",
            " |-- arr_delay: float (nullable = true)\n",
            " |-- carrier: string (nullable = true)\n",
            " |-- flight: string (nullable = true)\n",
            " |-- tailnum: string (nullable = true)\n",
            " |-- origin: string (nullable = true)\n",
            " |-- dest: string (nullable = true)\n",
            " |-- air_time: float (nullable = true)\n",
            " |-- distance: float (nullable = true)\n",
            " |-- hour: integer (nullable = true)\n",
            " |-- minute: integer (nullable = true)\n",
            " |-- time_hour: string (nullable = true)\n",
            " |-- name: string (nullable = true)\n",
            "\n"
          ]
        }
      ]
    },
    {
      "cell_type": "code",
      "source": [
        "df.show()"
      ],
      "metadata": {
        "colab": {
          "base_uri": "https://localhost:8080/"
        },
        "id": "C2H51zEdTqx1",
        "outputId": "93d4112d-0530-48a3-cd49-2cf26c5c3172"
      },
      "execution_count": 69,
      "outputs": [
        {
          "output_type": "stream",
          "name": "stdout",
          "text": [
            "+---+----+-----+---+--------+--------------+---------+--------+--------------+---------+-------+------+-------+------+----+--------+--------+----+------+-------------------+--------------------+\n",
            "| id|year|month|day|dep_time|sched_dep_time|dep_delay|arr_time|sched_arr_time|arr_delay|carrier|flight|tailnum|origin|dest|air_time|distance|hour|minute|          time_hour|                name|\n",
            "+---+----+-----+---+--------+--------------+---------+--------+--------------+---------+-------+------+-------+------+----+--------+--------+----+------+-------------------+--------------------+\n",
            "|  0|2013|    1|  1|   517.0|         515.0|      2.0|   830.0|         819.0|     11.0|     UA|  1545| N14228|   EWR| IAH|   227.0|  1400.0|   5|    15|2013-01-01 05:00:00|United Air Lines ...|\n",
            "|  1|2013|    1|  1|   533.0|         529.0|      4.0|   850.0|         830.0|     20.0|     UA|  1714| N24211|   LGA| IAH|   227.0|  1416.0|   5|    29|2013-01-01 05:00:00|United Air Lines ...|\n",
            "|  2|2013|    1|  1|   542.0|         540.0|      2.0|   923.0|         850.0|     33.0|     AA|  1141| N619AA|   JFK| MIA|   160.0|  1089.0|   5|    40|2013-01-01 05:00:00|American Airlines...|\n",
            "|  3|2013|    1|  1|   544.0|         545.0|     -1.0|  1004.0|        1022.0|    -18.0|     B6|   725| N804JB|   JFK| BQN|   183.0|  1576.0|   5|    45|2013-01-01 05:00:00|     JetBlue Airways|\n",
            "|  4|2013|    1|  1|   554.0|         600.0|     -6.0|   812.0|         837.0|    -25.0|     DL|   461| N668DN|   LGA| ATL|   116.0|   762.0|   6|     0|2013-01-01 06:00:00|Delta Air Lines Inc.|\n",
            "|  5|2013|    1|  1|   554.0|         558.0|     -4.0|   740.0|         728.0|     12.0|     UA|  1696| N39463|   EWR| ORD|   150.0|   719.0|   5|    58|2013-01-01 05:00:00|United Air Lines ...|\n",
            "|  6|2013|    1|  1|   555.0|         600.0|     -5.0|   913.0|         854.0|     19.0|     B6|   507| N516JB|   EWR| FLL|   158.0|  1065.0|   6|     0|2013-01-01 06:00:00|     JetBlue Airways|\n",
            "|  7|2013|    1|  1|   557.0|         600.0|     -3.0|   709.0|         723.0|    -14.0|     EV|  5708| N829AS|   LGA| IAD|    53.0|   229.0|   6|     0|2013-01-01 06:00:00|ExpressJet Airlin...|\n",
            "|  8|2013|    1|  1|   557.0|         600.0|     -3.0|   838.0|         846.0|     -8.0|     B6|    79| N593JB|   JFK| MCO|   140.0|   944.0|   6|     0|2013-01-01 06:00:00|     JetBlue Airways|\n",
            "|  9|2013|    1|  1|   558.0|         600.0|     -2.0|   753.0|         745.0|      8.0|     AA|   301| N3ALAA|   LGA| ORD|   138.0|   733.0|   6|     0|2013-01-01 06:00:00|American Airlines...|\n",
            "| 10|2013|    1|  1|   558.0|         600.0|     -2.0|   849.0|         851.0|     -2.0|     B6|    49| N793JB|   JFK| PBI|   149.0|  1028.0|   6|     0|2013-01-01 06:00:00|     JetBlue Airways|\n",
            "| 11|2013|    1|  1|   558.0|         600.0|     -2.0|   853.0|         856.0|     -3.0|     B6|    71| N657JB|   JFK| TPA|   158.0|  1005.0|   6|     0|2013-01-01 06:00:00|     JetBlue Airways|\n",
            "| 12|2013|    1|  1|   558.0|         600.0|     -2.0|   924.0|         917.0|      7.0|     UA|   194| N29129|   JFK| LAX|   345.0|  2475.0|   6|     0|2013-01-01 06:00:00|United Air Lines ...|\n",
            "| 13|2013|    1|  1|   558.0|         600.0|     -2.0|   923.0|         937.0|    -14.0|     UA|  1124| N53441|   EWR| SFO|   361.0|  2565.0|   6|     0|2013-01-01 06:00:00|United Air Lines ...|\n",
            "| 14|2013|    1|  1|   559.0|         600.0|     -1.0|   941.0|         910.0|     31.0|     AA|   707| N3DUAA|   LGA| DFW|   257.0|  1389.0|   6|     0|2013-01-01 06:00:00|American Airlines...|\n",
            "| 15|2013|    1|  1|   559.0|         559.0|      0.0|   702.0|         706.0|     -4.0|     B6|  1806| N708JB|   JFK| BOS|    44.0|   187.0|   5|    59|2013-01-01 05:00:00|     JetBlue Airways|\n",
            "| 16|2013|    1|  1|   559.0|         600.0|     -1.0|   854.0|         902.0|     -8.0|     UA|  1187| N76515|   EWR| LAS|   337.0|  2227.0|   6|     0|2013-01-01 06:00:00|United Air Lines ...|\n",
            "| 17|2013|    1|  1|   600.0|         600.0|      0.0|   851.0|         858.0|     -7.0|     B6|   371| N595JB|   LGA| FLL|   152.0|  1076.0|   6|     0|2013-01-01 06:00:00|     JetBlue Airways|\n",
            "| 18|2013|    1|  1|   600.0|         600.0|      0.0|   837.0|         825.0|     12.0|     MQ|  4650| N542MQ|   LGA| ATL|   134.0|   762.0|   6|     0|2013-01-01 06:00:00|           Envoy Air|\n",
            "| 19|2013|    1|  1|   601.0|         600.0|      1.0|   844.0|         850.0|     -6.0|     B6|   343| N644JB|   EWR| PBI|   147.0|  1023.0|   6|     0|2013-01-01 06:00:00|     JetBlue Airways|\n",
            "+---+----+-----+---+--------+--------------+---------+--------+--------------+---------+-------+------+-------+------+----+--------+--------+----+------+-------------------+--------------------+\n",
            "only showing top 20 rows\n",
            "\n"
          ]
        }
      ]
    },
    {
      "cell_type": "code",
      "source": [
        "df = df[['id','name','year','month','day','origin','distance','hour','minute']]"
      ],
      "metadata": {
        "id": "Qcm393zDSJKH"
      },
      "execution_count": 70,
      "outputs": []
    },
    {
      "cell_type": "code",
      "source": [
        "df.printSchema()"
      ],
      "metadata": {
        "colab": {
          "base_uri": "https://localhost:8080/"
        },
        "id": "zNyYS_6FzwYY",
        "outputId": "a5fa69cf-76af-4ebb-c9c8-b22006de7a61"
      },
      "execution_count": 71,
      "outputs": [
        {
          "output_type": "stream",
          "name": "stdout",
          "text": [
            "root\n",
            " |-- id: string (nullable = true)\n",
            " |-- name: string (nullable = true)\n",
            " |-- year: integer (nullable = true)\n",
            " |-- month: string (nullable = true)\n",
            " |-- day: string (nullable = true)\n",
            " |-- origin: string (nullable = true)\n",
            " |-- distance: float (nullable = true)\n",
            " |-- hour: integer (nullable = true)\n",
            " |-- minute: integer (nullable = true)\n",
            "\n"
          ]
        }
      ]
    },
    {
      "cell_type": "code",
      "source": [
        "df.show(truncate=False)"
      ],
      "metadata": {
        "colab": {
          "base_uri": "https://localhost:8080/"
        },
        "id": "kL8_W8ufSMTX",
        "outputId": "c6eaec0d-f7ea-4a12-92cc-83f52ce1e890"
      },
      "execution_count": 20,
      "outputs": [
        {
          "output_type": "stream",
          "name": "stdout",
          "text": [
            "+---+------------------------+----+-----+---+------+--------+----+------+\n",
            "|id |name                    |year|month|day|origin|distance|hour|minute|\n",
            "+---+------------------------+----+-----+---+------+--------+----+------+\n",
            "|0  |United Air Lines Inc.   |2013|1    |1  |EWR   |1400    |5   |15    |\n",
            "|1  |United Air Lines Inc.   |2013|1    |1  |LGA   |1416    |5   |29    |\n",
            "|2  |American Airlines Inc.  |2013|1    |1  |JFK   |1089    |5   |40    |\n",
            "|3  |JetBlue Airways         |2013|1    |1  |JFK   |1576    |5   |45    |\n",
            "|4  |Delta Air Lines Inc.    |2013|1    |1  |LGA   |762     |6   |0     |\n",
            "|5  |United Air Lines Inc.   |2013|1    |1  |EWR   |719     |5   |58    |\n",
            "|6  |JetBlue Airways         |2013|1    |1  |EWR   |1065    |6   |0     |\n",
            "|7  |ExpressJet Airlines Inc.|2013|1    |1  |LGA   |229     |6   |0     |\n",
            "|8  |JetBlue Airways         |2013|1    |1  |JFK   |944     |6   |0     |\n",
            "|9  |American Airlines Inc.  |2013|1    |1  |LGA   |733     |6   |0     |\n",
            "|10 |JetBlue Airways         |2013|1    |1  |JFK   |1028    |6   |0     |\n",
            "|11 |JetBlue Airways         |2013|1    |1  |JFK   |1005    |6   |0     |\n",
            "|12 |United Air Lines Inc.   |2013|1    |1  |JFK   |2475    |6   |0     |\n",
            "|13 |United Air Lines Inc.   |2013|1    |1  |EWR   |2565    |6   |0     |\n",
            "|14 |American Airlines Inc.  |2013|1    |1  |LGA   |1389    |6   |0     |\n",
            "|15 |JetBlue Airways         |2013|1    |1  |JFK   |187     |5   |59    |\n",
            "|16 |United Air Lines Inc.   |2013|1    |1  |EWR   |2227    |6   |0     |\n",
            "|17 |JetBlue Airways         |2013|1    |1  |LGA   |1076    |6   |0     |\n",
            "|18 |Envoy Air               |2013|1    |1  |LGA   |762     |6   |0     |\n",
            "|19 |JetBlue Airways         |2013|1    |1  |EWR   |1023    |6   |0     |\n",
            "+---+------------------------+----+-----+---+------+--------+----+------+\n",
            "only showing top 20 rows\n",
            "\n"
          ]
        }
      ]
    },
    {
      "cell_type": "markdown",
      "source": [
        "# Let's find the longest distance the plane travels."
      ],
      "metadata": {
        "id": "rckmYtrDT96D"
      }
    },
    {
      "cell_type": "code",
      "source": [
        "airline_with_the_most_flights = df.groupBy(\n",
        "    col(\"name\").alias(\"airline\")\n",
        ").agg(\n",
        "    count(\"*\").alias(\"count_of_flights_by_airline\")\n",
        ").orderBy(\n",
        "    col(\"count_of_flights_by_airline\").desc()\n",
        ")"
      ],
      "metadata": {
        "id": "iaM7-N3ySTPr"
      },
      "execution_count": 74,
      "outputs": []
    },
    {
      "cell_type": "code",
      "source": [
        "df.groupBy(\"name\").agg(max(col(\"distance\")).alias(\"max_distance\")).orderBy(col(\"max_distance\").desc()).show(truncate=False)\n"
      ],
      "metadata": {
        "colab": {
          "base_uri": "https://localhost:8080/"
        },
        "id": "X-z6D6wscJX_",
        "outputId": "b8081ea7-3e79-4c0c-c3a6-be3f6e73fb75"
      },
      "execution_count": 73,
      "outputs": [
        {
          "output_type": "stream",
          "name": "stdout",
          "text": [
            "+---------------------------+------------+\n",
            "|name                       |max_distance|\n",
            "+---------------------------+------------+\n",
            "|Hawaiian Airlines Inc.     |4983.0      |\n",
            "|United Air Lines Inc.      |4963.0      |\n",
            "|Virgin America             |2586.0      |\n",
            "|JetBlue Airways            |2586.0      |\n",
            "|Delta Air Lines Inc.       |2586.0      |\n",
            "|American Airlines Inc.     |2586.0      |\n",
            "|Alaska Airlines Inc.       |2402.0      |\n",
            "|US Airways Inc.            |2153.0      |\n",
            "|Southwest Airlines Co.     |2133.0      |\n",
            "|Frontier Airlines Inc.     |1620.0      |\n",
            "|Endeavor Air Inc.          |1587.0      |\n",
            "|ExpressJet Airlines Inc.   |1389.0      |\n",
            "|Envoy Air                  |1147.0      |\n",
            "|SkyWest Airlines Inc.      |1008.0      |\n",
            "|AirTran Airways Corporation|762.0       |\n",
            "|Mesa Airlines Inc.         |544.0       |\n",
            "+---------------------------+------------+\n",
            "\n"
          ]
        }
      ]
    },
    {
      "cell_type": "code",
      "source": [
        "df.groupBy(\n",
        "    col(\"name\").alias(\"AirLine\")\n",
        ").agg(\n",
        "    max(col(\"distance\")).alias(\"biggest_distance\")\n",
        ").orderBy(col(\"biggest_distance\").desc()).show()"
      ],
      "metadata": {
        "colab": {
          "base_uri": "https://localhost:8080/"
        },
        "id": "oxJbT2uE2BHL",
        "outputId": "116d1a39-14c6-456c-f4ed-3788d3935218"
      },
      "execution_count": 79,
      "outputs": [
        {
          "output_type": "stream",
          "name": "stdout",
          "text": [
            "+--------------------+----------------+\n",
            "|             AirLine|biggest_distance|\n",
            "+--------------------+----------------+\n",
            "|Hawaiian Airlines...|          4983.0|\n",
            "|United Air Lines ...|          4963.0|\n",
            "|      Virgin America|          2586.0|\n",
            "|     JetBlue Airways|          2586.0|\n",
            "|Delta Air Lines Inc.|          2586.0|\n",
            "|American Airlines...|          2586.0|\n",
            "|Alaska Airlines Inc.|          2402.0|\n",
            "|     US Airways Inc.|          2153.0|\n",
            "|Southwest Airline...|          2133.0|\n",
            "|Frontier Airlines...|          1620.0|\n",
            "|   Endeavor Air Inc.|          1587.0|\n",
            "|ExpressJet Airlin...|          1389.0|\n",
            "|           Envoy Air|          1147.0|\n",
            "|SkyWest Airlines ...|          1008.0|\n",
            "|AirTran Airways C...|           762.0|\n",
            "|  Mesa Airlines Inc.|           544.0|\n",
            "+--------------------+----------------+\n",
            "\n"
          ]
        }
      ]
    },
    {
      "cell_type": "code",
      "source": [],
      "metadata": {
        "id": "c_cVfOeg2Mp6"
      },
      "execution_count": null,
      "outputs": []
    }
  ]
}